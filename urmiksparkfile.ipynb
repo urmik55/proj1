{
 "cells": [
  {
   "cell_type": "code",
   "execution_count": 1,
   "id": "77e89bec-d392-4816-a4d6-b9b11df6ed0f",
   "metadata": {
    "execution": {
     "iopub.execute_input": "2023-02-16T22:47:11.103990Z",
     "iopub.status.busy": "2023-02-16T22:47:11.103732Z",
     "iopub.status.idle": "2023-02-16T22:47:48.078960Z",
     "shell.execute_reply": "2023-02-16T22:47:48.078350Z",
     "shell.execute_reply.started": "2023-02-16T22:47:11.103964Z"
    }
   },
   "outputs": [
    {
     "data": {
      "application/vnd.jupyter.widget-view+json": {
       "model_id": "6855a321fa8442deaf8675d29b82f4a1",
       "version_major": 2,
       "version_minor": 0
      },
      "text/plain": [
       "VBox()"
      ]
     },
     "metadata": {},
     "output_type": "display_data"
    },
    {
     "name": "stdout",
     "output_type": "stream",
     "text": [
      "Starting Spark application\n"
     ]
    },
    {
     "data": {
      "text/html": [
       "<table>\n",
       "<tr><th>ID</th><th>YARN Application ID</th><th>Kind</th><th>State</th><th>Spark UI</th><th>Driver log</th><th>User</th><th>Current session?</th></tr><tr><td>0</td><td>application_1676587273508_0001</td><td>pyspark</td><td>idle</td><td><a target=\"_blank\" href=\"http://ip-172-31-47-11.ec2.internal:20888/proxy/application_1676587273508_0001/\" class=\"emr-proxy-link\" emr-resource=\"j-3J2B0IABDV2NW\n",
       "\" application-id=\"application_1676587273508_0001\">Link</a></td><td><a target=\"_blank\" href=\"http://ip-172-31-44-173.ec2.internal:8042/node/containerlogs/container_1676587273508_0001_01_000001/livy\" >Link</a></td><td>None</td><td>✔</td></tr></table>"
      ],
      "text/plain": [
       "<IPython.core.display.HTML object>"
      ]
     },
     "metadata": {},
     "output_type": "display_data"
    },
    {
     "data": {
      "application/vnd.jupyter.widget-view+json": {
       "model_id": "",
       "version_major": 2,
       "version_minor": 0
      },
      "text/plain": [
       "FloatProgress(value=0.0, bar_style='info', description='Progress:', layout=Layout(height='25px', width='50%'),…"
      ]
     },
     "metadata": {},
     "output_type": "display_data"
    },
    {
     "name": "stdout",
     "output_type": "stream",
     "text": [
      "SparkSession available as 'spark'.\n"
     ]
    },
    {
     "data": {
      "application/vnd.jupyter.widget-view+json": {
       "model_id": "",
       "version_major": 2,
       "version_minor": 0
      },
      "text/plain": [
       "FloatProgress(value=0.0, bar_style='info', description='Progress:', layout=Layout(height='25px', width='50%'),…"
      ]
     },
     "metadata": {},
     "output_type": "display_data"
    },
    {
     "name": "stdout",
     "output_type": "stream",
     "text": [
      "PySpark Version :2.4.8-amzn-2\n",
      "[1, 3, 5, 7, 9]"
     ]
    }
   ],
   "source": [
    "print('PySpark Version :'+spark.version)\n",
    "\n",
    "big_list = range(10000)\n",
    "rdd = sc.parallelize(big_list, 2)\n",
    "odds = rdd.filter(lambda x: x % 2 != 0)\n",
    "odds.take(5)"
   ]
  },
  {
   "cell_type": "code",
   "execution_count": 2,
   "id": "dd1399a8-540a-476a-806a-78777b711942",
   "metadata": {
    "execution": {
     "iopub.execute_input": "2023-02-16T22:47:52.406688Z",
     "iopub.status.busy": "2023-02-16T22:47:52.406455Z",
     "iopub.status.idle": "2023-02-16T22:47:59.771839Z",
     "shell.execute_reply": "2023-02-16T22:47:59.771147Z",
     "shell.execute_reply.started": "2023-02-16T22:47:52.406664Z"
    }
   },
   "outputs": [
    {
     "data": {
      "application/vnd.jupyter.widget-view+json": {
       "model_id": "5d87faae2f03419c860d2dea92926578",
       "version_major": 2,
       "version_minor": 0
      },
      "text/plain": [
       "VBox()"
      ]
     },
     "metadata": {},
     "output_type": "display_data"
    },
    {
     "data": {
      "application/vnd.jupyter.widget-view+json": {
       "model_id": "",
       "version_major": 2,
       "version_minor": 0
      },
      "text/plain": [
       "FloatProgress(value=0.0, bar_style='info', description='Progress:', layout=Layout(height='25px', width='50%'),…"
      ]
     },
     "metadata": {},
     "output_type": "display_data"
    },
    {
     "name": "stdout",
     "output_type": "stream",
     "text": [
      "Collecting requests\n",
      "  Downloading https://files.pythonhosted.org/packages/d2/f4/274d1dbe96b41cf4e0efb70cbced278ffd61b5c7bb70338b62af94ccb25b/requests-2.28.2-py3-none-any.whl (62kB)\n",
      "Collecting charset-normalizer<4,>=2 (from requests)\n",
      "  Downloading https://files.pythonhosted.org/packages/68/2b/02e9d6a98ddb73fa238d559a9edcc30b247b8dc4ee848b6184c936e99dc0/charset_normalizer-3.0.1-py3-none-any.whl (45kB)\n",
      "Collecting urllib3<1.27,>=1.21.1 (from requests)\n",
      "  Downloading https://files.pythonhosted.org/packages/fe/ca/466766e20b767ddb9b951202542310cba37ea5f2d792dae7589f1741af58/urllib3-1.26.14-py2.py3-none-any.whl (140kB)\n",
      "Collecting certifi>=2017.4.17 (from requests)\n",
      "  Downloading https://files.pythonhosted.org/packages/71/4c/3db2b8021bd6f2f0ceb0e088d6b2d49147671f25832fb17970e9b583d742/certifi-2022.12.7-py3-none-any.whl (155kB)\n",
      "Collecting idna<4,>=2.5 (from requests)\n",
      "  Downloading https://files.pythonhosted.org/packages/fc/34/3030de6f1370931b9dbb4dad48f6ab1015ab1d32447850b9fc94e60097be/idna-3.4-py3-none-any.whl (61kB)\n",
      "Installing collected packages: charset-normalizer, urllib3, certifi, idna, requests\n",
      "Successfully installed certifi-2022.12.7 charset-normalizer-3.0.1 idna-3.4 requests-2.28.2 urllib3-1.26.14\n",
      "\n",
      "You are using pip version 9.0.1, however version 23.0 is available.\n",
      "You should consider upgrading via the 'pip install --upgrade pip' command."
     ]
    }
   ],
   "source": [
    "sc.install_pypi_package(\"requests\")"
   ]
  },
  {
   "cell_type": "code",
   "execution_count": 5,
   "id": "bd3847a5-2f39-4639-84ff-bbd9b5ce445a",
   "metadata": {
    "execution": {
     "iopub.execute_input": "2023-02-16T22:50:30.516895Z",
     "iopub.status.busy": "2023-02-16T22:50:30.516662Z",
     "iopub.status.idle": "2023-02-16T22:50:30.595454Z",
     "shell.execute_reply": "2023-02-16T22:50:30.594315Z",
     "shell.execute_reply.started": "2023-02-16T22:50:30.516871Z"
    },
    "tags": []
   },
   "outputs": [
    {
     "data": {
      "application/vnd.jupyter.widget-view+json": {
       "model_id": "2c3a63d7b380478c82b3abf4dd406e99",
       "version_major": 2,
       "version_minor": 0
      },
      "text/plain": [
       "VBox()"
      ]
     },
     "metadata": {},
     "output_type": "display_data"
    },
    {
     "data": {
      "application/vnd.jupyter.widget-view+json": {
       "model_id": "",
       "version_major": 2,
       "version_minor": 0
      },
      "text/plain": [
       "FloatProgress(value=0.0, bar_style='info', description='Progress:', layout=Layout(height='25px', width='50%'),…"
      ]
     },
     "metadata": {},
     "output_type": "display_data"
    }
   ],
   "source": [
    "import requests\n",
    "import os\n",
    "\n",
    "from pprint import pprint"
   ]
  },
  {
   "cell_type": "code",
   "execution_count": 6,
   "id": "6040affd-40eb-427a-b688-0bbb8358e99a",
   "metadata": {
    "execution": {
     "iopub.execute_input": "2023-02-16T22:50:33.231906Z",
     "iopub.status.busy": "2023-02-16T22:50:33.231648Z",
     "iopub.status.idle": "2023-02-16T22:50:34.070865Z",
     "shell.execute_reply": "2023-02-16T22:50:34.070263Z",
     "shell.execute_reply.started": "2023-02-16T22:50:33.231878Z"
    },
    "tags": []
   },
   "outputs": [
    {
     "data": {
      "application/vnd.jupyter.widget-view+json": {
       "model_id": "290bd1f3ce62463eba40ba212d1c929a",
       "version_major": 2,
       "version_minor": 0
      },
      "text/plain": [
       "VBox()"
      ]
     },
     "metadata": {},
     "output_type": "display_data"
    },
    {
     "data": {
      "application/vnd.jupyter.widget-view+json": {
       "model_id": "",
       "version_major": 2,
       "version_minor": 0
      },
      "text/plain": [
       "FloatProgress(value=0.0, bar_style='info', description='Progress:', layout=Layout(height='25px', width='50%'),…"
      ]
     },
     "metadata": {},
     "output_type": "display_data"
    },
    {
     "name": "stdout",
     "output_type": "stream",
     "text": [
      "{'pagination': {'limit': 100, 'offset': 0, 'count': 100, 'total': 447964}, 'data': [{'flight_date': '2023-02-17', 'flight_status': 'scheduled', 'departure': {'airport': None, 'timezone': None, 'iata': 'SYD', 'icao': 'YSSY', 'terminal': '2', 'gate': '35', 'delay': None, 'scheduled': '2023-02-17T16:05:00+00:00', 'estimated': '2023-02-17T16:05:00+00:00', 'actual': None, 'estimated_runway': None, 'actual_runway': None}, 'arrival': {'airport': None, 'timezone': None, 'iata': 'CBR', 'icao': 'YSCB', 'terminal': None, 'gate': '6', 'baggage': None, 'delay': None, 'scheduled': '2023-02-17T17:05:00+00:00', 'estimated': '2023-02-17T17:05:00+00:00', 'actual': None, 'estimated_runway': None, 'actual_runway': None}, 'airline': {'name': 'Virgin Australia', 'iata': 'VA', 'icao': 'VOZ'}, 'flight': {'number': '656', 'iata': 'VA656', 'icao': 'VOZ656', 'codeshared': None}, 'aircraft': None, 'live': None}, {'flight_date': '2023-02-17', 'flight_status': 'scheduled', 'departure': {'airport': None, 'timezone': None, 'iata': 'SYD', 'icao': 'YSSY', 'terminal': '3', 'gate': 'T3G', 'delay': None, 'scheduled': '2023-02-17T16:05:00+00:00', 'estimated': '2023-02-17T16:05:00+00:00', 'actual': None, 'estimated_runway': None, 'actual_runway': None}, 'arrival': {'airport': None, 'timezone': None, 'iata': 'CBR', 'icao': 'YSCB', 'terminal': None, 'gate': None, 'baggage': None, 'delay': None, 'scheduled': '2023-02-17T17:00:00+00:00', 'estimated': '2023-02-17T17:00:00+00:00', 'actual': None, 'estimated_runway': None, 'actual_runway': None}, 'airline': {'name': 'Qantas', 'iata': 'QF', 'icao': 'QFA'}, 'flight': {'number': '1507', 'iata': 'QF1507', 'icao': 'QFA1507', 'codeshared': None}, 'aircraft': None, 'live': None}, {'flight_date': '2023-02-17', 'flight_status': 'scheduled', 'departure': {'airport': None, 'timezone': None, 'iata': 'SYD', 'icao': 'YSSY', 'terminal': '3', 'gate': 'T3G', 'delay': None, 'scheduled': '2023-02-17T16:05:00+00:00', 'estimated': '2023-02-17T16:05:00+00:00', 'actual': None, 'estimated_runway': None, 'actual_runway': None}, 'arrival': {'airport': None, 'timezone': None, 'iata': 'BNE', 'icao': 'YBBN', 'terminal': 'D', 'gate': None, 'baggage': None, 'delay': None, 'scheduled': '2023-02-17T16:35:00+00:00', 'estimated': '2023-02-17T16:35:00+00:00', 'actual': None, 'estimated_runway': None, 'actual_runway': None}, 'airline': {'name': 'Qantas', 'iata': 'QF', 'icao': 'QFA'}, 'flight': {'number': '536', 'iata': 'QF536', 'icao': 'QFA536', 'codeshared': None}, 'aircraft': None, 'live': None}, {'flight_date': '2023-02-17', 'flight_status': 'scheduled', 'departure': {'airport': None, 'timezone': None, 'iata': 'SYD', 'icao': 'YSSY', 'terminal': '3', 'gate': None, 'delay': None, 'scheduled': '2023-02-17T16:00:00+00:00', 'estimated': '2023-02-17T16:00:00+00:00', 'actual': None, 'estimated_runway': None, 'actual_runway': None}, 'arrival': {'airport': None, 'timezone': None, 'iata': 'ADL', 'icao': 'YPAD', 'terminal': '1', 'gate': None, 'baggage': None, 'delay': None, 'scheduled': '2023-02-17T17:45:00+00:00', 'estimated': '2023-02-17T17:45:00+00:00', 'actual': None, 'estimated_runway': None, 'actual_runway': None}, 'airline': {'name': 'Qantas', 'iata': 'QF', 'icao': 'QFA'}, 'flight': {'number': '7408', 'iata': 'QF7408', 'icao': 'QFA7408', 'codeshared': None}, 'aircraft': None, 'live': None}, {'flight_date': '2023-02-17', 'flight_status': 'scheduled', 'departure': {'airport': None, 'timezone': None, 'iata': 'SYD', 'icao': 'YSSY', 'terminal': '2', 'gate': 'A35', 'delay': None, 'scheduled': '2023-02-17T16:00:00+00:00', 'estimated': '2023-02-17T16:00:00+00:00', 'actual': None, 'estimated_runway': None, 'actual_runway': None}, 'arrival': {'airport': None, 'timezone': None, 'iata': 'MEL', 'icao': 'YMML', 'terminal': '4', 'gate': '13', 'baggage': None, 'delay': None, 'scheduled': '2023-02-17T17:35:00+00:00', 'estimated': '2023-02-17T17:35:00+00:00', 'actual': None, 'estimated_runway': None, 'actual_runway': None}, 'airline': {'name': 'Rex Regional Express', 'iata': 'ZL', 'icao': 'RXA'}, 'flight': {'number': '133', 'iata': 'ZL133', 'icao': 'RXA133', 'codeshared': None}, 'aircraft': None, 'live': None}, {'flight_date': '2023-02-17', 'flight_status': 'scheduled', 'departure': {'airport': None, 'timezone': None, 'iata': 'SYD', 'icao': 'YSSY', 'terminal': '2', 'gate': '35', 'delay': None, 'scheduled': '2023-02-17T16:00:00+00:00', 'estimated': '2023-02-17T16:00:00+00:00', 'actual': None, 'estimated_runway': None, 'actual_runway': None}, 'arrival': {'airport': None, 'timezone': None, 'iata': 'BNE', 'icao': 'YBBN', 'terminal': 'D', 'gate': None, 'baggage': None, 'delay': None, 'scheduled': '2023-02-17T16:30:00+00:00', 'estimated': '2023-02-17T16:30:00+00:00', 'actual': None, 'estimated_runway': None, 'actual_runway': None}, 'airline': {'name': 'Virgin Australia', 'iata': 'VA', 'icao': 'VOZ'}, 'flight': {'number': '957', 'iata': 'VA957', 'icao': 'VOZ957', 'codeshared': None}, 'aircraft': None, 'live': None}, {'flight_date': '2023-02-17', 'flight_status': 'scheduled', 'departure': {'airport': None, 'timezone': None, 'iata': 'SYD', 'icao': 'YSSY', 'terminal': '2', 'gate': '32', 'delay': None, 'scheduled': '2023-02-17T16:00:00+00:00', 'estimated': '2023-02-17T16:00:00+00:00', 'actual': None, 'estimated_runway': None, 'actual_runway': None}, 'arrival': {'airport': None, 'timezone': None, 'iata': 'MEL', 'icao': 'YMML', 'terminal': '3', 'gate': '7', 'baggage': None, 'delay': None, 'scheduled': '2023-02-17T17:35:00+00:00', 'estimated': '2023-02-17T17:35:00+00:00', 'actual': None, 'estimated_runway': None, 'actual_runway': None}, 'airline': {'name': 'Virgin Australia', 'iata': 'VA', 'icao': 'VOZ'}, 'flight': {'number': '858', 'iata': 'VA858', 'icao': 'VOZ858', 'codeshared': None}, 'aircraft': None, 'live': None}, {'flight_date': '2023-02-17', 'flight_status': 'scheduled', 'departure': {'airport': None, 'timezone': None, 'iata': 'SYD', 'icao': 'YSSY', 'terminal': '3', 'gate': 'T3G', 'delay': None, 'scheduled': '2023-02-17T16:00:00+00:00', 'estimated': '2023-02-17T16:00:00+00:00', 'actual': None, 'estimated_runway': None, 'actual_runway': None}, 'arrival': {'airport': None, 'timezone': None, 'iata': 'MEL', 'icao': 'YMML', 'terminal': '1', 'gate': None, 'baggage': None, 'delay': None, 'scheduled': '2023-02-17T17:35:00+00:00', 'estimated': '2023-02-17T17:35:00+00:00', 'actual': None, 'estimated_runway': None, 'actual_runway': None}, 'airline': {'name': 'Qantas', 'iata': 'QF', 'icao': 'QFA'}, 'flight': {'number': '463', 'iata': 'QF463', 'icao': 'QFA463', 'codeshared': None}, 'aircraft': None, 'live': None}, {'flight_date': '2023-02-17', 'flight_status': 'scheduled', 'departure': {'airport': None, 'timezone': None, 'iata': 'SYD', 'icao': 'YSSY', 'terminal': '2', 'gate': None, 'delay': None, 'scheduled': '2023-02-17T15:55:00+00:00', 'estimated': '2023-02-17T15:55:00+00:00', 'actual': None, 'estimated_runway': None, 'actual_runway': None}, 'arrival': {'airport': None, 'timezone': None, 'iata': 'ARM', 'icao': 'YARM', 'terminal': None, 'gate': None, 'baggage': None, 'delay': None, 'scheduled': '2023-02-17T17:10:00+00:00', 'estimated': '2023-02-17T17:10:00+00:00', 'actual': None, 'estimated_runway': None, 'actual_runway': None}, 'airline': {'name': 'Rex Regional Express', 'iata': 'ZL', 'icao': 'RXA'}, 'flight': {'number': '6982', 'iata': 'ZL6982', 'icao': 'RXA6982', 'codeshared': None}, 'aircraft': None, 'live': None}, {'flight_date': '2023-02-17', 'flight_status': 'scheduled', 'departure': {'airport': None, 'timezone': None, 'iata': 'SYD', 'icao': 'YSSY', 'terminal': '3', 'gate': 'T3G', 'delay': None, 'scheduled': '2023-02-17T15:55:00+00:00', 'estimated': '2023-02-17T15:55:00+00:00', 'actual': None, 'estimated_runway': None, 'actual_runway': None}, 'arrival': {'airport': None, 'timezone': None, 'iata': 'GFF', 'icao': 'YGTH', 'terminal': None, 'gate': None, 'baggage': None, 'delay': None, 'scheduled': '2023-02-17T17:30:00+00:00', 'estimated': '2023-02-17T17:30:00+00:00', 'actual': None, 'estimated_runway': None, 'actual_runway': None}, 'airline': {'name': 'Qantas', 'iata': 'QF', 'icao': 'QFA'}, 'flight': {'number': '2123', 'iata': 'QF2123', 'icao': 'QFA2123', 'codeshared': None}, 'aircraft': None, 'live': None}, {'flight_date': '2023-02-17', 'flight_status': 'scheduled', 'departure': {'airport': None, 'timezone': None, 'iata': 'SYD', 'icao': 'YSSY', 'terminal': '1', 'gate': 'H', 'delay': None, 'scheduled': '2023-02-17T15:50:00+00:00', 'estimated': '2023-02-17T15:50:00+00:00', 'actual': None, 'estimated_runway': None, 'actual_runway': None}, 'arrival': {'airport': None, 'timezone': None, 'iata': 'AUH', 'icao': 'OMAA', 'terminal': '3', 'gate': None, 'baggage': None, 'delay': None, 'scheduled': '2023-02-17T23:25:00+00:00', 'estimated': '2023-02-17T23:25:00+00:00', 'actual': None, 'estimated_runway': None, 'actual_runway': None}, 'airline': {'name': 'Etihad Airways', 'iata': 'EY', 'icao': 'ETD'}, 'flight': {'number': '451', 'iata': 'EY451', 'icao': 'ETD451', 'codeshared': None}, 'aircraft': None, 'live': None}, {'flight_date': '2023-02-17', 'flight_status': 'scheduled', 'departure': {'airport': None, 'timezone': None, 'iata': 'SYD', 'icao': 'YSSY', 'terminal': '1', 'gate': 'E', 'delay': None, 'scheduled': '2023-02-17T15:45:00+00:00', 'estimated': '2023-02-17T15:45:00+00:00', 'actual': None, 'estimated_runway': None, 'actual_runway': None}, 'arrival': {'airport': None, 'timezone': None, 'iata': 'BKK', 'icao': 'VTBS', 'terminal': None, 'gate': None, 'baggage': None, 'delay': None, 'scheduled': '2023-02-17T21:35:00+00:00', 'estimated': '2023-02-17T21:35:00+00:00', 'actual': None, 'estimated_runway': None, 'actual_runway': None}, 'airline': {'name': 'Thai AirAsia X', 'iata': 'XJ', 'icao': 'TAX'}, 'flight': {'number': '383', 'iata': 'XJ383', 'icao': 'TAX383', 'codeshared': None}, 'aircraft': None, 'live': None}, {'flight_date': '2023-02-17', 'flight_status': 'scheduled', 'departure': {'airport': None, 'timezone': None, 'iata': 'SYD', 'icao': 'YSSY', 'terminal': '2', 'gate': None, 'delay': None, 'scheduled': '2023-02-17T15:40:00+00:00', 'estimated': '2023-02-17T15:40:00+00:00', 'actual': None, 'estimated_runway': None, 'actual_runway': None}, 'arrival': {'airport': None, 'timezone': None, 'iata': 'PQQ', 'icao': 'YPMQ', 'terminal': None, 'gate': None, 'baggage': None, 'delay': None, 'scheduled': '2023-02-17T16:45:00+00:00', 'estimated': '2023-02-17T16:45:00+00:00', 'actual': None, 'estimated_runway': None, 'actual_runway': None}, 'airline': {'name': 'Rex Regional Express', 'iata': 'ZL', 'icao': 'RXA'}, 'flight': {'number': '6374', 'iata': 'ZL6374', 'icao': 'RXA6374', 'codeshared': None}, 'aircraft': None, 'live': None}, {'flight_date': '2023-02-17', 'flight_status': 'scheduled', 'departure': {'airport': None, 'timezone': None, 'iata': 'SYD', 'icao': 'YSSY', 'terminal': '3', 'gate': 'T3G', 'delay': None, 'scheduled': '2023-02-17T15:35:00+00:00', 'estimated': '2023-02-17T15:35:00+00:00', 'actual': None, 'estimated_runway': None, 'actual_runway': None}, 'arrival': {'airport': None, 'timezone': None, 'iata': 'CBR', 'icao': 'YSCB', 'terminal': None, 'gate': None, 'baggage': None, 'delay': None, 'scheduled': '2023-02-17T16:30:00+00:00', 'estimated': '2023-02-17T16:30:00+00:00', 'actual': None, 'estimated_runway': None, 'actual_runway': None}, 'airline': {'name': 'Qantas', 'iata': 'QF', 'icao': 'QFA'}, 'flight': {'number': '1441', 'iata': 'QF1441', 'icao': 'QFA1441', 'codeshared': None}, 'aircraft': None, 'live': None}, {'flight_date': '2023-02-17', 'flight_status': 'scheduled', 'departure': {'airport': None, 'timezone': None, 'iata': 'SYD', 'icao': 'YSSY', 'terminal': '3', 'gate': 'T3G', 'delay': None, 'scheduled': '2023-02-17T15:30:00+00:00', 'estimated': '2023-02-17T15:30:00+00:00', 'actual': None, 'estimated_runway': None, 'actual_runway': None}, 'arrival': {'airport': None, 'timezone': None, 'iata': 'ADL', 'icao': 'YPAD', 'terminal': '1', 'gate': None, 'baggage': None, 'delay': None, 'scheduled': '2023-02-17T17:05:00+00:00', 'estimated': '2023-02-17T17:05:00+00:00', 'actual': None, 'estimated_runway': None, 'actual_runway': None}, 'airline': {'name': 'Qantas', 'iata': 'QF', 'icao': 'QFA'}, 'flight': {'number': '741', 'iata': 'QF741', 'icao': 'QFA741', 'codeshared': None}, 'aircraft': None, 'live': None}, {'flight_date': '2023-02-17', 'flight_status': 'scheduled', 'departure': {'airport': None, 'timezone': None, 'iata': 'SYD', 'icao': 'YSSY', 'terminal': '3', 'gate': 'T3G', 'delay': None, 'scheduled': '2023-02-17T15:30:00+00:00', 'estimated': '2023-02-17T15:30:00+00:00', 'actual': None, 'estimated_runway': None, 'actual_runway': None}, 'arrival': {'airport': None, 'timezone': None, 'iata': 'MEL', 'icao': 'YMML', 'terminal': '1', 'gate': None, 'baggage': None, 'delay': None, 'scheduled': '2023-02-17T17:05:00+00:00', 'estimated': '2023-02-17T17:05:00+00:00', 'actual': None, 'estimated_runway': None, 'actual_runway': None}, 'airline': {'name': 'Qantas', 'iata': 'QF', 'icao': 'QFA'}, 'flight': {'number': '459', 'iata': 'QF459', 'icao': 'QFA459', 'codeshared': None}, 'aircraft': None, 'live': None}, {'flight_date': '2023-02-17', 'flight_status': 'scheduled', 'departure': {'airport': None, 'timezone': None, 'iata': 'SYD', 'icao': 'YSSY', 'terminal': '1', 'gate': '50', 'delay': None, 'scheduled': '2023-02-17T15:30:00+00:00', 'estimated': '2023-02-17T15:30:00+00:00', 'actual': None, 'estimated_runway': None, 'actual_runway': None}, 'arrival': {'airport': None, 'timezone': None, 'iata': 'AKL', 'icao': 'NZAA', 'terminal': 'I', 'gate': '3', 'baggage': None, 'delay': None, 'scheduled': '2023-02-17T20:30:00+00:00', 'estimated': '2023-02-17T20:30:00+00:00', 'actual': None, 'estimated_runway': None, 'actual_runway': None}, 'airline': {'name': 'Air New Zealand', 'iata': 'NZ', 'icao': 'ANZ'}, 'flight': {'number': '106', 'iata': 'NZ106', 'icao': 'ANZ106', 'codeshared': None}, 'aircraft': None, 'live': None}, {'flight_date': '2023-02-17', 'flight_status': 'scheduled', 'departure': {'airport': None, 'timezone': None, 'iata': 'SYD', 'icao': 'YSSY', 'terminal': '2', 'gate': None, 'delay': None, 'scheduled': '2023-02-17T15:25:00+00:00', 'estimated': '2023-02-17T15:25:00+00:00', 'actual': None, 'estimated_runway': None, 'actual_runway': None}, 'arrival': {'airport': None, 'timezone': None, 'iata': 'DBO', 'icao': 'YSDU', 'terminal': None, 'gate': None, 'baggage': None, 'delay': None, 'scheduled': '2023-02-17T16:35:00+00:00', 'estimated': '2023-02-17T16:35:00+00:00', 'actual': None, 'estimated_runway': None, 'actual_runway': None}, 'airline': {'name': 'Rex Regional Express', 'iata': 'ZL', 'icao': 'RXA'}, 'flight': {'number': '6832', 'iata': 'ZL6832', 'icao': 'RXA6832', 'codeshared': None}, 'aircraft': None, 'live': None}, {'flight_date': '2023-02-17', 'flight_status': 'scheduled', 'departure': {'airport': None, 'timezone': None, 'iata': 'SYD', 'icao': 'YSSY', 'terminal': '3', 'gate': 'T3G', 'delay': None, 'scheduled': '2023-02-17T15:25:00+00:00', 'estimated': '2023-02-17T15:25:00+00:00', 'actual': None, 'estimated_runway': None, 'actual_runway': None}, 'arrival': {'airport': None, 'timezone': None, 'iata': 'PER', 'icao': 'YPPH', 'terminal': '4', 'gate': None, 'baggage': None, 'delay': None, 'scheduled': '2023-02-17T17:15:00+00:00', 'estimated': '2023-02-17T17:15:00+00:00', 'actual': None, 'estimated_runway': None, 'actual_runway': None}, 'airline': {'name': 'Qantas', 'iata': 'QF', 'icao': 'QFA'}, 'flight': {'number': '651', 'iata': 'QF651', 'icao': 'QFA651', 'codeshared': None}, 'aircraft': None, 'live': None}, {'flight_date': '2023-02-17', 'flight_status': 'scheduled', 'departure': {'airport': None, 'timezone': None, 'iata': 'SYD', 'icao': 'YSSY', 'terminal': '3', 'gate': 'T3G', 'delay': None, 'scheduled': '2023-02-17T15:20:00+00:00', 'estimated': '2023-02-17T15:20:00+00:00', 'actual': None, 'estimated_runway': None, 'actual_runway': None}, 'arrival': {'airport': None, 'timezone': None, 'iata': 'WGA', 'icao': 'YSWG', 'terminal': None, 'gate': None, 'baggage': None, 'delay': None, 'scheduled': '2023-02-17T16:30:00+00:00', 'estimated': '2023-02-17T16:30:00+00:00', 'actual': None, 'estimated_runway': None, 'actual_runway': None}, 'airline': {'name': 'Qantas', 'iata': 'QF', 'icao': 'QFA'}, 'flight': {'number': '2229', 'iata': 'QF2229', 'icao': 'QFA2229', 'codeshared': None}, 'aircraft': None, 'live': None}, {'flight_date': '2023-02-17', 'flight_status': 'scheduled', 'departure': {'airport': None, 'timezone': None, 'iata': 'SYD', 'icao': 'YSSY', 'terminal': '3', 'gate': 'T3G', 'delay': None, 'scheduled': '2023-02-17T15:20:00+00:00', 'estimated': '2023-02-17T15:20:00+00:00', 'actual': None, 'estimated_runway': None, 'actual_runway': None}, 'arrival': {'airport': None, 'timezone': None, 'iata': 'TMW', 'icao': 'YSTW', 'terminal': None, 'gate': None, 'baggage': None, 'delay': None, 'scheduled': '2023-02-17T16:25:00+00:00', 'estimated': '2023-02-17T16:25:00+00:00', 'actual': None, 'estimated_runway': None, 'actual_runway': None}, 'airline': {'name': 'Qantas', 'iata': 'QF', 'icao': 'QFA'}, 'flight': {'number': '2006', 'iata': 'QF2006', 'icao': 'QFA2006', 'codeshared': None}, 'aircraft': None, 'live': None}, {'flight_date': '2023-02-17', 'flight_status': 'scheduled', 'departure': {'airport': None, 'timezone': None, 'iata': 'SYD', 'icao': 'YSSY', 'terminal': '3', 'gate': 'T3G', 'delay': None, 'scheduled': '2023-02-17T15:20:00+00:00', 'estimated': '2023-02-17T15:20:00+00:00', 'actual': None, 'estimated_runway': None, 'actual_runway': None}, 'arrival': {'airport': None, 'timezone': None, 'iata': 'ARM', 'icao': 'YARM', 'terminal': None, 'gate': None, 'baggage': None, 'delay': None, 'scheduled': '2023-02-17T16:40:00+00:00', 'estimated': '2023-02-17T16:40:00+00:00', 'actual': None, 'estimated_runway': None, 'actual_runway': None}, 'airline': {'name': 'Qantas', 'iata': 'QF', 'icao': 'QFA'}, 'flight': {'number': '2030', 'iata': 'QF2030', 'icao': 'QFA2030', 'codeshared': None}, 'aircraft': None, 'live': None}, {'flight_date': '2023-02-17', 'flight_status': 'scheduled', 'departure': {'airport': None, 'timezone': None, 'iata': 'SYD', 'icao': 'YSSY', 'terminal': '1', 'gate': '56', 'delay': None, 'scheduled': '2023-02-17T15:20:00+00:00', 'estimated': '2023-02-17T15:20:00+00:00', 'actual': None, 'estimated_runway': None, 'actual_runway': None}, 'arrival': {'airport': None, 'timezone': None, 'iata': 'NOU', 'icao': 'NWWW', 'terminal': None, 'gate': None, 'baggage': None, 'delay': None, 'scheduled': '2023-02-17T18:10:00+00:00', 'estimated': '2023-02-17T18:10:00+00:00', 'actual': None, 'estimated_runway': None, 'actual_runway': None}, 'airline': {'name': 'Aircalin', 'iata': 'SB', 'icao': 'ACI'}, 'flight': {'number': '141', 'iata': 'SB141', 'icao': 'ACI141', 'codeshared': None}, 'aircraft': None, 'live': None}, {'flight_date': '2023-02-17', 'flight_status': 'scheduled', 'departure': {'airport': None, 'timezone': None, 'iata': 'SYD', 'icao': 'YSSY', 'terminal': '2', 'gate': None, 'delay': None, 'scheduled': '2023-02-17T15:15:00+00:00', 'estimated': '2023-02-17T15:15:00+00:00', 'actual': None, 'estimated_runway': None, 'actual_runway': None}, 'arrival': {'airport': None, 'timezone': None, 'iata': 'WGA', 'icao': 'YSWG', 'terminal': None, 'gate': None, 'baggage': None, 'delay': None, 'scheduled': '2023-02-17T16:30:00+00:00', 'estimated': '2023-02-17T16:30:00+00:00', 'actual': None, 'estimated_runway': None, 'actual_runway': None}, 'airline': {'name': 'Rex Regional Express', 'iata': 'ZL', 'icao': 'RXA'}, 'flight': {'number': '6673', 'iata': 'ZL6673', 'icao': 'RXA6673', 'codeshared': None}, 'aircraft': None, 'live': None}, {'flight_date': '2023-02-17', 'flight_status': 'scheduled', 'departure': {'airport': None, 'timezone': None, 'iata': 'SYD', 'icao': 'YSSY', 'terminal': '2', 'gate': 'A52', 'delay': None, 'scheduled': '2023-02-17T15:15:00+00:00', 'estimated': '2023-02-17T15:15:00+00:00', 'actual': None, 'estimated_runway': None, 'actual_runway': None}, 'arrival': {'airport': None, 'timezone': None, 'iata': 'BNE', 'icao': 'YBBN', 'terminal': 'D', 'gate': None, 'baggage': None, 'delay': None, 'scheduled': '2023-02-17T15:45:00+00:00', 'estimated': '2023-02-17T15:45:00+00:00', 'actual': None, 'estimated_runway': None, 'actual_runway': None}, 'airline': {'name': 'Rex Regional Express', 'iata': 'ZL', 'icao': 'RXA'}, 'flight': {'number': '352', 'iata': 'ZL352', 'icao': 'RXA352', 'codeshared': None}, 'aircraft': None, 'live': None}, {'flight_date': '2023-02-17', 'flight_status': 'scheduled', 'departure': {'airport': None, 'timezone': None, 'iata': 'SYD', 'icao': 'YSSY', 'terminal': '3', 'gate': 'T3G', 'delay': None, 'scheduled': '2023-02-17T15:15:00+00:00', 'estimated': '2023-02-17T15:15:00+00:00', 'actual': None, 'estimated_runway': None, 'actual_runway': None}, 'arrival': {'airport': None, 'timezone': None, 'iata': 'DBO', 'icao': 'YSDU', 'terminal': None, 'gate': None, 'baggage': None, 'delay': None, 'scheduled': '2023-02-17T16:20:00+00:00', 'estimated': '2023-02-17T16:20:00+00:00', 'actual': None, 'estimated_runway': None, 'actual_runway': None}, 'airline': {'name': 'Qantas', 'iata': 'QF', 'icao': 'QFA'}, 'flight': {'number': '2042', 'iata': 'QF2042', 'icao': 'QFA2042', 'codeshared': None}, 'aircraft': None, 'live': None}, {'flight_date': '2023-02-17', 'flight_status': 'scheduled', 'departure': {'airport': None, 'timezone': None, 'iata': 'SYD', 'icao': 'YSSY', 'terminal': '1', 'gate': '25', 'delay': None, 'scheduled': '2023-02-17T15:15:00+00:00', 'estimated': '2023-02-17T15:15:00+00:00', 'actual': None, 'estimated_runway': None, 'actual_runway': None}, 'arrival': {'airport': None, 'timezone': None, 'iata': 'HKG', 'icao': 'VHHH', 'terminal': '1', 'gate': None, 'baggage': None, 'delay': None, 'scheduled': '2023-02-17T21:25:00+00:00', 'estimated': '2023-02-17T21:25:00+00:00', 'actual': None, 'estimated_runway': None, 'actual_runway': None}, 'airline': {'name': 'Cathay Pacific', 'iata': 'CX', 'icao': 'CPA'}, 'flight': {'number': '100', 'iata': 'CX100', 'icao': 'CPA100', 'codeshared': None}, 'aircraft': None, 'live': None}, {'flight_date': '2023-02-17', 'flight_status': 'scheduled', 'departure': {'airport': None, 'timezone': None, 'iata': 'SYD', 'icao': 'YSSY', 'terminal': '2', 'gate': 'A55', 'delay': None, 'scheduled': '2023-02-17T15:10:00+00:00', 'estimated': '2023-02-17T15:10:00+00:00', 'actual': None, 'estimated_runway': None, 'actual_runway': None}, 'arrival': {'airport': None, 'timezone': None, 'iata': 'MEL', 'icao': 'YMML', 'terminal': '4', 'gate': '46', 'baggage': None, 'delay': None, 'scheduled': '2023-02-17T16:45:00+00:00', 'estimated': '2023-02-17T16:45:00+00:00', 'actual': None, 'estimated_runway': None, 'actual_runway': None}, 'airline': {'name': 'Jetstar', 'iata': 'JQ', 'icao': 'JST'}, 'flight': {'number': '523', 'iata': 'JQ523', 'icao': 'JST523', 'codeshared': None}, 'aircraft': None, 'live': None}, {'flight_date': '2023-02-17', 'flight_status': 'scheduled', 'departure': {'airport': None, 'timezone': None, 'iata': 'SYD', 'icao': 'YSSY', 'terminal': '3', 'gate': 'T3G', 'delay': None, 'scheduled': '2023-02-17T15:10:00+00:00', 'estimated': '2023-02-17T15:10:00+00:00', 'actual': None, 'estimated_runway': None, 'actual_runway': None}, 'arrival': {'airport': None, 'timezone': None, 'iata': 'BNK', 'icao': 'YBNA', 'terminal': None, 'gate': None, 'baggage': None, 'delay': None, 'scheduled': '2023-02-17T16:40:00+00:00', 'estimated': '2023-02-17T16:40:00+00:00', 'actual': None, 'estimated_runway': None, 'actual_runway': None}, 'airline': {'name': 'Qantas', 'iata': 'QF', 'icao': 'QFA'}, 'flight': {'number': '2068', 'iata': 'QF2068', 'icao': 'QFA2068', 'codeshared': None}, 'aircraft': None, 'live': None}, {'flight_date': '2023-02-17', 'flight_status': 'scheduled', 'departure': {'airport': None, 'timezone': None, 'iata': 'BGY', 'icao': 'LIME', 'terminal': None, 'gate': None, 'delay': 15, 'scheduled': '2023-02-17T06:05:00+00:00', 'estimated': '2023-02-17T06:05:00+00:00', 'actual': None, 'estimated_runway': None, 'actual_runway': None}, 'arrival': {'airport': None, 'timezone': None, 'iata': 'MAD', 'icao': 'LEMD', 'terminal': '1', 'gate': None, 'baggage': '10', 'delay': None, 'scheduled': '2023-02-17T08:30:00+00:00', 'estimated': '2023-02-17T08:30:00+00:00', 'actual': None, 'estimated_runway': None, 'actual_runway': None}, 'airline': {'name': 'Ryanair', 'iata': 'FR', 'icao': 'RYR'}, 'flight': {'number': '1429', 'iata': 'FR1429', 'icao': 'RYR1429', 'codeshared': None}, 'aircraft': None, 'live': None}, {'flight_date': '2023-02-17', 'flight_status': 'scheduled', 'departure': {'airport': None, 'timezone': None, 'iata': 'BGY', 'icao': 'LIME', 'terminal': None, 'gate': None, 'delay': 10, 'scheduled': '2023-02-17T06:00:00+00:00', 'estimated': '2023-02-17T06:00:00+00:00', 'actual': None, 'estimated_runway': None, 'actual_runway': None}, 'arrival': {'airport': None, 'timezone': None, 'iata': 'BLQ', 'icao': 'LIPE', 'terminal': None, 'gate': None, 'baggage': None, 'delay': None, 'scheduled': '2023-02-17T06:31:00+00:00', 'estimated': '2023-02-17T06:31:00+00:00', 'actual': None, 'estimated_runway': None, 'actual_runway': None}, 'airline': {'name': 'Star Air', 'iata': 'DJ', 'icao': 'SRR'}, 'flight': {'number': '6498', 'iata': 'DJ6498', 'icao': 'SRR6498', 'codeshared': None}, 'aircraft': None, 'live': None}, {'flight_date': '2023-02-17', 'flight_status': 'scheduled', 'departure': {'airport': None, 'timezone': None, 'iata': 'BGY', 'icao': 'LIME', 'terminal': None, 'gate': None, 'delay': 15, 'scheduled': '2023-02-17T06:00:00+00:00', 'estimated': '2023-02-17T06:00:00+00:00', 'actual': None, 'estimated_runway': None, 'actual_runway': None}, 'arrival': {'airport': None, 'timezone': None, 'iata': 'VLC', 'icao': 'LEVC', 'terminal': '1', 'gate': None, 'baggage': '9', 'delay': None, 'scheduled': '2023-02-17T07:55:00+00:00', 'estimated': '2023-02-17T07:55:00+00:00', 'actual': None, 'estimated_runway': None, 'actual_runway': None}, 'airline': {'name': 'Ryanair', 'iata': 'FR', 'icao': 'RYR'}, 'flight': {'number': '4663', 'iata': 'FR4663', 'icao': 'RYR4663', 'codeshared': None}, 'aircraft': None, 'live': None}, {'flight_date': '2023-02-17', 'flight_status': 'scheduled', 'departure': {'airport': None, 'timezone': None, 'iata': 'BGY', 'icao': 'LIME', 'terminal': None, 'gate': None, 'delay': 15, 'scheduled': '2023-02-17T05:45:00+00:00', 'estimated': '2023-02-17T05:45:00+00:00', 'actual': None, 'estimated_runway': None, 'actual_runway': None}, 'arrival': {'airport': None, 'timezone': None, 'iata': 'ZAG', 'icao': 'LDZA', 'terminal': None, 'gate': None, 'baggage': None, 'delay': None, 'scheduled': '2023-02-17T07:00:00+00:00', 'estimated': '2023-02-17T07:00:00+00:00', 'actual': None, 'estimated_runway': None, 'actual_runway': None}, 'airline': {'name': 'Ryanair', 'iata': 'FR', 'icao': 'RYR'}, 'flight': {'number': '5999', 'iata': 'FR5999', 'icao': 'RYR5999', 'codeshared': None}, 'aircraft': None, 'live': None}, {'flight_date': '2023-02-17', 'flight_status': 'scheduled', 'departure': {'airport': None, 'timezone': None, 'iata': 'BGY', 'icao': 'LIME', 'terminal': None, 'gate': None, 'delay': 15, 'scheduled': '2023-02-17T05:45:00+00:00', 'estimated': '2023-02-17T05:45:00+00:00', 'actual': None, 'estimated_runway': None, 'actual_runway': None}, 'arrival': {'airport': None, 'timezone': None, 'iata': 'TLV', 'icao': 'LLBG', 'terminal': '1', 'gate': None, 'baggage': None, 'delay': None, 'scheduled': '2023-02-17T10:30:00+00:00', 'estimated': '2023-02-17T10:30:00+00:00', 'actual': None, 'estimated_runway': None, 'actual_runway': None}, 'airline': {'name': 'Ryanair', 'iata': 'FR', 'icao': 'RYR'}, 'flight': {'number': '3414', 'iata': 'FR3414', 'icao': 'RYR3414', 'codeshared': None}, 'aircraft': None, 'live': None}, {'flight_date': '2023-02-17', 'flight_status': 'scheduled', 'departure': {'airport': None, 'timezone': None, 'iata': 'NZL', 'icao': 'ZBZL', 'terminal': None, 'gate': '1-2', 'delay': None, 'scheduled': '2023-02-17T12:40:00+00:00', 'estimated': '2023-02-17T12:40:00+00:00', 'actual': None, 'estimated_runway': None, 'actual_runway': None}, 'arrival': {'airport': None, 'timezone': None, 'iata': 'PKX', 'icao': 'ZBAD', 'terminal': None, 'gate': None, 'baggage': None, 'delay': None, 'scheduled': '2023-02-17T14:55:00+00:00', 'estimated': '2023-02-17T14:55:00+00:00', 'actual': None, 'estimated_runway': None, 'actual_runway': None}, 'airline': {'name': 'Hebei Airlines', 'iata': 'NS', 'icao': 'HBH'}, 'flight': {'number': '8024', 'iata': 'NS8024', 'icao': 'HBH8024', 'codeshared': None}, 'aircraft': None, 'live': None}, {'flight_date': '2023-02-17', 'flight_status': 'scheduled', 'departure': {'airport': None, 'timezone': None, 'iata': 'NZL', 'icao': 'ZBZL', 'terminal': None, 'gate': '1-2', 'delay': None, 'scheduled': '2023-02-17T12:40:00+00:00', 'estimated': '2023-02-17T12:40:00+00:00', 'actual': None, 'estimated_runway': None, 'actual_runway': None}, 'arrival': {'airport': None, 'timezone': None, 'iata': 'PKX', 'icao': 'ZBAD', 'terminal': None, 'gate': None, 'baggage': None, 'delay': None, 'scheduled': '2023-02-17T14:55:00+00:00', 'estimated': '2023-02-17T14:55:00+00:00', 'actual': None, 'estimated_runway': None, 'actual_runway': None}, 'airline': {'name': 'China Southern Airlines', 'iata': 'CZ', 'icao': 'CSN'}, 'flight': {'number': '9819', 'iata': 'CZ9819', 'icao': 'CSN9819', 'codeshared': {'airline_name': 'hebei airlines', 'airline_iata': 'ns', 'airline_icao': 'hbh', 'flight_number': '8024', 'flight_iata': 'ns8024', 'flight_icao': 'hbh8024'}}, 'aircraft': None, 'live': None}, {'flight_date': '2023-02-17', 'flight_status': 'scheduled', 'departure': {'airport': None, 'timezone': None, 'iata': 'NZL', 'icao': 'ZBZL', 'terminal': None, 'gate': '1-2', 'delay': None, 'scheduled': '2023-02-17T12:40:00+00:00', 'estimated': '2023-02-17T12:40:00+00:00', 'actual': None, 'estimated_runway': None, 'actual_runway': None}, 'arrival': {'airport': None, 'timezone': None, 'iata': 'PKX', 'icao': 'ZBAD', 'terminal': None, 'gate': None, 'baggage': None, 'delay': None, 'scheduled': '2023-02-17T14:55:00+00:00', 'estimated': '2023-02-17T14:55:00+00:00', 'actual': None, 'estimated_runway': None, 'actual_runway': None}, 'airline': {'name': 'Xiamen Airlines', 'iata': 'MF', 'icao': 'CXA'}, 'flight': {'number': '7120', 'iata': 'MF7120', 'icao': 'CXA7120', 'codeshared': {'airline_name': 'hebei airlines', 'airline_iata': 'ns', 'airline_icao': 'hbh', 'flight_number': '8024', 'flight_iata': 'ns8024', 'flight_icao': 'hbh8024'}}, 'aircraft': None, 'live': None}, {'flight_date': '2023-02-17', 'flight_status': 'scheduled', 'departure': {'airport': None, 'timezone': None, 'iata': 'WUS', 'icao': 'ZSWY', 'terminal': None, 'gate': '2', 'delay': None, 'scheduled': '2023-02-17T10:50:00+00:00', 'estimated': '2023-02-17T10:50:00+00:00', 'actual': None, 'estimated_runway': None, 'actual_runway': None}, 'arrival': {'airport': None, 'timezone': None, 'iata': 'XIY', 'icao': 'ZLXY', 'terminal': '2', 'gate': None, 'baggage': None, 'delay': None, 'scheduled': '2023-02-17T13:30:00+00:00', 'estimated': '2023-02-17T13:30:00+00:00', 'actual': None, 'estimated_runway': None, 'actual_runway': None}, 'airline': {'name': 'Shandong Airlines', 'iata': 'SC', 'icao': 'CDG'}, 'flight': {'number': '2171', 'iata': 'SC2171', 'icao': 'CDG2171', 'codeshared': None}, 'aircraft': None, 'live': None}, {'flight_date': '2023-02-17', 'flight_status': 'scheduled', 'departure': {'airport': None, 'timezone': None, 'iata': 'WUS', 'icao': 'ZSWY', 'terminal': None, 'gate': '2', 'delay': None, 'scheduled': '2023-02-17T10:50:00+00:00', 'estimated': '2023-02-17T10:50:00+00:00', 'actual': None, 'estimated_runway': None, 'actual_runway': None}, 'arrival': {'airport': None, 'timezone': None, 'iata': 'XIY', 'icao': 'ZLXY', 'terminal': '2', 'gate': None, 'baggage': None, 'delay': None, 'scheduled': '2023-02-17T13:30:00+00:00', 'estimated': '2023-02-17T13:30:00+00:00', 'actual': None, 'estimated_runway': None, 'actual_runway': None}, 'airline': {'name': 'Shenzhen Airlines', 'iata': 'ZH', 'icao': 'CSZ'}, 'flight': {'number': '2559', 'iata': 'ZH2559', 'icao': 'CSZ2559', 'codeshared': {'airline_name': 'shandong airlines', 'airline_iata': 'sc', 'airline_icao': 'cdg', 'flight_number': '2171', 'flight_iata': 'sc2171', 'flight_icao': 'cdg2171'}}, 'aircraft': None, 'live': None}, {'flight_date': '2023-02-17', 'flight_status': 'scheduled', 'departure': {'airport': None, 'timezone': None, 'iata': 'WUS', 'icao': 'ZSWY', 'terminal': None, 'gate': '2', 'delay': None, 'scheduled': '2023-02-17T10:50:00+00:00', 'estimated': '2023-02-17T10:50:00+00:00', 'actual': None, 'estimated_runway': None, 'actual_runway': None}, 'arrival': {'airport': None, 'timezone': None, 'iata': 'XIY', 'icao': 'ZLXY', 'terminal': '2', 'gate': None, 'baggage': None, 'delay': None, 'scheduled': '2023-02-17T13:30:00+00:00', 'estimated': '2023-02-17T13:30:00+00:00', 'actual': None, 'estimated_runway': None, 'actual_runway': None}, 'airline': {'name': 'Air China LTD', 'iata': 'CA', 'icao': 'CCA'}, 'flight': {'number': '4663', 'iata': 'CA4663', 'icao': 'CCA4663', 'codeshared': {'airline_name': 'shandong airlines', 'airline_iata': 'sc', 'airline_icao': 'cdg', 'flight_number': '2171', 'flight_iata': 'sc2171', 'flight_icao': 'cdg2171'}}, 'aircraft': None, 'live': None}, {'flight_date': '2023-02-17', 'flight_status': 'scheduled', 'departure': {'airport': None, 'timezone': None, 'iata': 'WUS', 'icao': 'ZSWY', 'terminal': None, 'gate': '3', 'delay': None, 'scheduled': '2023-02-17T09:45:00+00:00', 'estimated': '2023-02-17T09:45:00+00:00', 'actual': None, 'estimated_runway': None, 'actual_runway': None}, 'arrival': {'airport': None, 'timezone': None, 'iata': 'CAN', 'icao': 'ZGGG', 'terminal': '1', 'gate': None, 'baggage': '8', 'delay': None, 'scheduled': '2023-02-17T11:45:00+00:00', 'estimated': '2023-02-17T11:45:00+00:00', 'actual': None, 'estimated_runway': None, 'actual_runway': None}, 'airline': {'name': 'Shenzhen Airlines', 'iata': 'ZH', 'icao': 'CSZ'}, 'flight': {'number': '2639', 'iata': 'ZH2639', 'icao': 'CSZ2639', 'codeshared': {'airline_name': 'shandong airlines', 'airline_iata': 'sc', 'airline_icao': 'cdg', 'flight_number': '4673', 'flight_iata': 'sc4673', 'flight_icao': 'cdg4673'}}, 'aircraft': None, 'live': None}, {'flight_date': '2023-02-17', 'flight_status': 'scheduled', 'departure': {'airport': None, 'timezone': None, 'iata': 'KUL', 'icao': 'WMKK', 'terminal': '2', 'gate': None, 'delay': None, 'scheduled': '2023-02-17T11:00:00+00:00', 'estimated': '2023-02-17T11:00:00+00:00', 'actual': None, 'estimated_runway': None, 'actual_runway': None}, 'arrival': {'airport': None, 'timezone': None, 'iata': 'REP', 'icao': 'VDSR', 'terminal': 'I', 'gate': None, 'baggage': None, 'delay': None, 'scheduled': '2023-02-17T12:00:00+00:00', 'estimated': '2023-02-17T12:00:00+00:00', 'actual': None, 'estimated_runway': None, 'actual_runway': None}, 'airline': {'name': 'AirAsia', 'iata': 'AK', 'icao': 'AXM'}, 'flight': {'number': '540', 'iata': 'AK540', 'icao': 'AXM540', 'codeshared': None}, 'aircraft': None, 'live': None}, {'flight_date': '2023-02-17', 'flight_status': 'scheduled', 'departure': {'airport': None, 'timezone': None, 'iata': 'REP', 'icao': 'VDSR', 'terminal': None, 'gate': None, 'delay': None, 'scheduled': '2023-02-17T11:45:00+00:00', 'estimated': '2023-02-17T11:45:00+00:00', 'actual': None, 'estimated_runway': None, 'actual_runway': None}, 'arrival': {'airport': None, 'timezone': None, 'iata': 'DMK', 'icao': 'VTBD', 'terminal': '1', 'gate': None, 'baggage': None, 'delay': None, 'scheduled': '2023-02-17T13:00:00+00:00', 'estimated': '2023-02-17T13:00:00+00:00', 'actual': None, 'estimated_runway': None, 'actual_runway': None}, 'airline': {'name': 'AirAsia', 'iata': 'AK', 'icao': 'AXM'}, 'flight': {'number': '611', 'iata': 'AK611', 'icao': 'AXM611', 'codeshared': None}, 'aircraft': None, 'live': None}, {'flight_date': '2023-02-17', 'flight_status': 'scheduled', 'departure': {'airport': None, 'timezone': None, 'iata': 'REP', 'icao': 'VDSR', 'terminal': None, 'gate': None, 'delay': None, 'scheduled': '2023-02-17T11:25:00+00:00', 'estimated': '2023-02-17T11:25:00+00:00', 'actual': None, 'estimated_runway': None, 'actual_runway': None}, 'arrival': {'airport': None, 'timezone': None, 'iata': 'KOS', 'icao': 'VDSV', 'terminal': None, 'gate': None, 'baggage': None, 'delay': None, 'scheduled': '2023-02-17T12:35:00+00:00', 'estimated': '2023-02-17T12:35:00+00:00', 'actual': None, 'estimated_runway': None, 'actual_runway': None}, 'airline': {'name': 'Cambodia Angkor Air', 'iata': 'K6', 'icao': 'KHV'}, 'flight': {'number': '131', 'iata': 'K6131', 'icao': 'KHV131', 'codeshared': None}, 'aircraft': None, 'live': None}, {'flight_date': '2023-02-17', 'flight_status': 'scheduled', 'departure': {'airport': None, 'timezone': None, 'iata': 'REP', 'icao': 'VDSR', 'terminal': None, 'gate': None, 'delay': None, 'scheduled': '2023-02-17T11:25:00+00:00', 'estimated': '2023-02-17T11:25:00+00:00', 'actual': None, 'estimated_runway': None, 'actual_runway': None}, 'arrival': {'airport': None, 'timezone': None, 'iata': 'KOS', 'icao': 'VDSV', 'terminal': None, 'gate': None, 'baggage': None, 'delay': None, 'scheduled': '2023-02-17T12:35:00+00:00', 'estimated': '2023-02-17T12:35:00+00:00', 'actual': None, 'estimated_runway': None, 'actual_runway': None}, 'airline': {'name': 'Vietnam Airlines', 'iata': 'VN', 'icao': 'HVN'}, 'flight': {'number': '3801', 'iata': 'VN3801', 'icao': 'HVN3801', 'codeshared': {'airline_name': 'cambodia angkor air', 'airline_iata': 'k6', 'airline_icao': 'khv', 'flight_number': '131', 'flight_iata': 'k6131', 'flight_icao': 'khv131'}}, 'aircraft': None, 'live': None}, {'flight_date': '2023-02-17', 'flight_status': 'scheduled', 'departure': {'airport': None, 'timezone': None, 'iata': 'REC', 'icao': 'SBRF', 'terminal': '1', 'gate': '16', 'delay': None, 'scheduled': '2023-02-17T01:30:00+00:00', 'estimated': '2023-02-17T01:30:00+00:00', 'actual': None, 'estimated_runway': None, 'actual_runway': None}, 'arrival': {'airport': None, 'timezone': None, 'iata': 'GIG', 'icao': 'SBGL', 'terminal': '2', 'gate': None, 'baggage': None, 'delay': None, 'scheduled': '2023-02-17T04:25:00+00:00', 'estimated': '2023-02-17T04:25:00+00:00', 'actual': None, 'estimated_runway': None, 'actual_runway': None}, 'airline': {'name': 'Gol', 'iata': 'G3', 'icao': 'GLO'}, 'flight': {'number': '1969', 'iata': 'G31969', 'icao': 'GLO1969', 'codeshared': None}, 'aircraft': None, 'live': None}, {'flight_date': '2023-02-17', 'flight_status': 'scheduled', 'departure': {'airport': None, 'timezone': None, 'iata': 'REC', 'icao': 'SBRF', 'terminal': '1', 'gate': '16', 'delay': None, 'scheduled': '2023-02-17T01:30:00+00:00', 'estimated': '2023-02-17T01:30:00+00:00', 'actual': None, 'estimated_runway': None, 'actual_runway': None}, 'arrival': {'airport': None, 'timezone': None, 'iata': 'GIG', 'icao': 'SBGL', 'terminal': '2', 'gate': None, 'baggage': None, 'delay': None, 'scheduled': '2023-02-17T04:25:00+00:00', 'estimated': '2023-02-17T04:25:00+00:00', 'actual': None, 'estimated_runway': None, 'actual_runway': None}, 'airline': {'name': 'TAP Air Portugal', 'iata': 'TP', 'icao': 'TAP'}, 'flight': {'number': '4155', 'iata': 'TP4155', 'icao': 'TAP4155', 'codeshared': {'airline_name': 'gol', 'airline_iata': 'g3', 'airline_icao': 'glo', 'flight_number': '1969', 'flight_iata': 'g31969', 'flight_icao': 'glo1969'}}, 'aircraft': None, 'live': None}, {'flight_date': '2023-02-17', 'flight_status': 'scheduled', 'departure': {'airport': None, 'timezone': None, 'iata': 'REC', 'icao': 'SBRF', 'terminal': '1', 'gate': '16', 'delay': None, 'scheduled': '2023-02-17T01:30:00+00:00', 'estimated': '2023-02-17T01:30:00+00:00', 'actual': None, 'estimated_runway': None, 'actual_runway': None}, 'arrival': {'airport': None, 'timezone': None, 'iata': 'GIG', 'icao': 'SBGL', 'terminal': '2', 'gate': None, 'baggage': None, 'delay': None, 'scheduled': '2023-02-17T04:25:00+00:00', 'estimated': '2023-02-17T04:25:00+00:00', 'actual': None, 'estimated_runway': None, 'actual_runway': None}, 'airline': {'name': 'Copa Airlines', 'iata': 'CM', 'icao': 'CMP'}, 'flight': {'number': '3612', 'iata': 'CM3612', 'icao': 'CMP3612', 'codeshared': {'airline_name': 'gol', 'airline_iata': 'g3', 'airline_icao': 'glo', 'flight_number': '1969', 'flight_iata': 'g31969', 'flight_icao': 'glo1969'}}, 'aircraft': None, 'live': None}, {'flight_date': '2023-02-17', 'flight_status': 'scheduled', 'departure': {'airport': None, 'timezone': None, 'iata': 'REC', 'icao': 'SBRF', 'terminal': '1', 'gate': '16', 'delay': None, 'scheduled': '2023-02-17T01:30:00+00:00', 'estimated': '2023-02-17T01:30:00+00:00', 'actual': None, 'estimated_runway': None, 'actual_runway': None}, 'arrival': {'airport': None, 'timezone': None, 'iata': 'GIG', 'icao': 'SBGL', 'terminal': '2', 'gate': None, 'baggage': None, 'delay': None, 'scheduled': '2023-02-17T04:25:00+00:00', 'estimated': '2023-02-17T04:25:00+00:00', 'actual': None, 'estimated_runway': None, 'actual_runway': None}, 'airline': {'name': 'SA AVIANCA', 'iata': 'AV', 'icao': 'AVA'}, 'flight': {'number': '4611', 'iata': 'AV4611', 'icao': 'AVA4611', 'codeshared': {'airline_name': 'gol', 'airline_iata': 'g3', 'airline_icao': 'glo', 'flight_number': '1969', 'flight_iata': 'g31969', 'flight_icao': 'glo1969'}}, 'aircraft': None, 'live': None}, {'flight_date': '2023-02-17', 'flight_status': 'active', 'departure': {'airport': None, 'timezone': None, 'iata': 'MEL', 'icao': 'YMML', 'terminal': '3', 'gate': '11', 'delay': None, 'scheduled': '2023-02-17T10:10:00+00:00', 'estimated': '2023-02-17T10:10:00+00:00', 'actual': None, 'estimated_runway': None, 'actual_runway': None}, 'arrival': {'airport': None, 'timezone': None, 'iata': 'BNE', 'icao': 'YBBN', 'terminal': 'D', 'gate': '41', 'baggage': 'D05', 'delay': None, 'scheduled': '2023-02-17T11:20:00+00:00', 'estimated': '2023-02-17T11:20:00+00:00', 'actual': None, 'estimated_runway': None, 'actual_runway': None}, 'airline': {'name': 'Singapore Airlines', 'iata': 'SQ', 'icao': 'SIA'}, 'flight': {'number': '6893', 'iata': 'SQ6893', 'icao': 'SIA6893', 'codeshared': {'airline_name': 'virgin australia', 'airline_iata': 'va', 'airline_icao': 'voz', 'flight_number': '321', 'flight_iata': 'va321', 'flight_icao': 'voz321'}}, 'aircraft': None, 'live': None}, {'flight_date': '2023-02-17', 'flight_status': 'active', 'departure': {'airport': None, 'timezone': None, 'iata': 'MEL', 'icao': 'YMML', 'terminal': '3', 'gate': '11', 'delay': None, 'scheduled': '2023-02-17T10:10:00+00:00', 'estimated': '2023-02-17T10:10:00+00:00', 'actual': None, 'estimated_runway': None, 'actual_runway': None}, 'arrival': {'airport': None, 'timezone': None, 'iata': 'BNE', 'icao': 'YBBN', 'terminal': 'D', 'gate': '41', 'baggage': 'D05', 'delay': None, 'scheduled': '2023-02-17T11:20:00+00:00', 'estimated': '2023-02-17T11:20:00+00:00', 'actual': None, 'estimated_runway': None, 'actual_runway': None}, 'airline': {'name': 'Hawaiian Airlines', 'iata': 'HA', 'icao': 'HAL'}, 'flight': {'number': '4061', 'iata': 'HA4061', 'icao': 'HAL4061', 'codeshared': {'airline_name': 'virgin australia', 'airline_iata': 'va', 'airline_icao': 'voz', 'flight_number': '321', 'flight_iata': 'va321', 'flight_icao': 'voz321'}}, 'aircraft': None, 'live': None}, {'flight_date': '2023-02-17', 'flight_status': 'active', 'departure': {'airport': None, 'timezone': None, 'iata': 'MEL', 'icao': 'YMML', 'terminal': '3', 'gate': '6', 'delay': 4, 'scheduled': '2023-02-17T10:00:00+00:00', 'estimated': '2023-02-17T10:00:00+00:00', 'actual': None, 'estimated_runway': None, 'actual_runway': None}, 'arrival': {'airport': None, 'timezone': None, 'iata': 'SYD', 'icao': 'YSSY', 'terminal': '2', 'gate': '36', 'baggage': 'D1', 'delay': None, 'scheduled': '2023-02-17T11:25:00+00:00', 'estimated': '2023-02-17T11:25:00+00:00', 'actual': None, 'estimated_runway': None, 'actual_runway': None}, 'airline': {'name': 'Singapore Airlines', 'iata': 'SQ', 'icao': 'SIA'}, 'flight': {'number': '6801', 'iata': 'SQ6801', 'icao': 'SIA6801', 'codeshared': {'airline_name': 'virgin australia', 'airline_iata': 'va', 'airline_icao': 'voz', 'flight_number': '833', 'flight_iata': 'va833', 'flight_icao': 'voz833'}}, 'aircraft': None, 'live': None}, {'flight_date': '2023-02-17', 'flight_status': 'active', 'departure': {'airport': None, 'timezone': None, 'iata': 'MEL', 'icao': 'YMML', 'terminal': '3', 'gate': '6', 'delay': 4, 'scheduled': '2023-02-17T10:00:00+00:00', 'estimated': '2023-02-17T10:00:00+00:00', 'actual': None, 'estimated_runway': None, 'actual_runway': None}, 'arrival': {'airport': None, 'timezone': None, 'iata': 'SYD', 'icao': 'YSSY', 'terminal': '2', 'gate': '36', 'baggage': 'D1', 'delay': None, 'scheduled': '2023-02-17T11:25:00+00:00', 'estimated': '2023-02-17T11:25:00+00:00', 'actual': None, 'estimated_runway': None, 'actual_runway': None}, 'airline': {'name': 'Hawaiian Airlines', 'iata': 'HA', 'icao': 'HAL'}, 'flight': {'number': '4103', 'iata': 'HA4103', 'icao': 'HAL4103', 'codeshared': {'airline_name': 'virgin australia', 'airline_iata': 'va', 'airline_icao': 'voz', 'flight_number': '833', 'flight_iata': 'va833', 'flight_icao': 'voz833'}}, 'aircraft': None, 'live': None}, {'flight_date': '2023-02-17', 'flight_status': 'active', 'departure': {'airport': None, 'timezone': None, 'iata': 'MEL', 'icao': 'YMML', 'terminal': '3', 'gate': '6', 'delay': 4, 'scheduled': '2023-02-17T10:00:00+00:00', 'estimated': '2023-02-17T10:00:00+00:00', 'actual': None, 'estimated_runway': None, 'actual_runway': None}, 'arrival': {'airport': None, 'timezone': None, 'iata': 'SYD', 'icao': 'YSSY', 'terminal': '2', 'gate': '36', 'baggage': 'D1', 'delay': None, 'scheduled': '2023-02-17T11:25:00+00:00', 'estimated': '2023-02-17T11:25:00+00:00', 'actual': None, 'estimated_runway': None, 'actual_runway': None}, 'airline': {'name': 'Etihad Airways', 'iata': 'EY', 'icao': 'ETD'}, 'flight': {'number': '6697', 'iata': 'EY6697', 'icao': 'ETD6697', 'codeshared': {'airline_name': 'virgin australia', 'airline_iata': 'va', 'airline_icao': 'voz', 'flight_number': '833', 'flight_iata': 'va833', 'flight_icao': 'voz833'}}, 'aircraft': None, 'live': None}, {'flight_date': '2023-02-17', 'flight_status': 'active', 'departure': {'airport': None, 'timezone': None, 'iata': 'MEL', 'icao': 'YMML', 'terminal': '1', 'gate': '11', 'delay': None, 'scheduled': '2023-02-17T10:00:00+00:00', 'estimated': '2023-02-17T10:00:00+00:00', 'actual': None, 'estimated_runway': None, 'actual_runway': None}, 'arrival': {'airport': None, 'timezone': None, 'iata': 'SYD', 'icao': 'YSSY', 'terminal': '3', 'gate': 'T3G', 'baggage': 'QFR', 'delay': None, 'scheduled': '2023-02-17T11:25:00+00:00', 'estimated': '2023-02-17T11:25:00+00:00', 'actual': None, 'estimated_runway': None, 'actual_runway': None}, 'airline': {'name': 'LATAM Airlines', 'iata': 'LA', 'icao': 'LAN'}, 'flight': {'number': '4823', 'iata': 'LA4823', 'icao': 'LAN4823', 'codeshared': {'airline_name': 'qantas', 'airline_iata': 'qf', 'airline_icao': 'qfa', 'flight_number': '432', 'flight_iata': 'qf432', 'flight_icao': 'qfa432'}}, 'aircraft': None, 'live': None}, {'flight_date': '2023-02-17', 'flight_status': 'active', 'departure': {'airport': None, 'timezone': None, 'iata': 'MEL', 'icao': 'YMML', 'terminal': '1', 'gate': '11', 'delay': None, 'scheduled': '2023-02-17T10:00:00+00:00', 'estimated': '2023-02-17T10:00:00+00:00', 'actual': None, 'estimated_runway': None, 'actual_runway': None}, 'arrival': {'airport': None, 'timezone': None, 'iata': 'SYD', 'icao': 'YSSY', 'terminal': '3', 'gate': 'T3G', 'baggage': 'QFR', 'delay': None, 'scheduled': '2023-02-17T11:25:00+00:00', 'estimated': '2023-02-17T11:25:00+00:00', 'actual': None, 'estimated_runway': None, 'actual_runway': None}, 'airline': {'name': 'Cathay Pacific', 'iata': 'CX', 'icao': 'CPA'}, 'flight': {'number': '9054', 'iata': 'CX9054', 'icao': 'CPA9054', 'codeshared': {'airline_name': 'qantas', 'airline_iata': 'qf', 'airline_icao': 'qfa', 'flight_number': '432', 'flight_iata': 'qf432', 'flight_icao': 'qfa432'}}, 'aircraft': None, 'live': None}, {'flight_date': '2023-02-17', 'flight_status': 'active', 'departure': {'airport': None, 'timezone': None, 'iata': 'MEL', 'icao': 'YMML', 'terminal': '1', 'gate': '11', 'delay': None, 'scheduled': '2023-02-17T10:00:00+00:00', 'estimated': '2023-02-17T10:00:00+00:00', 'actual': None, 'estimated_runway': None, 'actual_runway': None}, 'arrival': {'airport': None, 'timezone': None, 'iata': 'SYD', 'icao': 'YSSY', 'terminal': '3', 'gate': 'T3G', 'baggage': 'QFR', 'delay': None, 'scheduled': '2023-02-17T11:25:00+00:00', 'estimated': '2023-02-17T11:25:00+00:00', 'actual': None, 'estimated_runway': None, 'actual_runway': None}, 'airline': {'name': 'Air New Zealand', 'iata': 'NZ', 'icao': 'ANZ'}, 'flight': {'number': '1832', 'iata': 'NZ1832', 'icao': 'ANZ1832', 'codeshared': {'airline_name': 'qantas', 'airline_iata': 'qf', 'airline_icao': 'qfa', 'flight_number': '432', 'flight_iata': 'qf432', 'flight_icao': 'qfa432'}}, 'aircraft': None, 'live': None}, {'flight_date': '2023-02-17', 'flight_status': 'active', 'departure': {'airport': None, 'timezone': None, 'iata': 'MEL', 'icao': 'YMML', 'terminal': '1', 'gate': '11', 'delay': None, 'scheduled': '2023-02-17T10:00:00+00:00', 'estimated': '2023-02-17T10:00:00+00:00', 'actual': None, 'estimated_runway': None, 'actual_runway': None}, 'arrival': {'airport': None, 'timezone': None, 'iata': 'SYD', 'icao': 'YSSY', 'terminal': '3', 'gate': 'T3G', 'baggage': 'QFR', 'delay': None, 'scheduled': '2023-02-17T11:25:00+00:00', 'estimated': '2023-02-17T11:25:00+00:00', 'actual': None, 'estimated_runway': None, 'actual_runway': None}, 'airline': {'name': 'Emirates', 'iata': 'EK', 'icao': 'UAE'}, 'flight': {'number': '5603', 'iata': 'EK5603', 'icao': 'UAE5603', 'codeshared': {'airline_name': 'qantas', 'airline_iata': 'qf', 'airline_icao': 'qfa', 'flight_number': '432', 'flight_iata': 'qf432', 'flight_icao': 'qfa432'}}, 'aircraft': None, 'live': None}, {'flight_date': '2023-02-17', 'flight_status': 'active', 'departure': {'airport': None, 'timezone': None, 'iata': 'MEL', 'icao': 'YMML', 'terminal': '4', 'gate': '51', 'delay': None, 'scheduled': '2023-02-17T09:55:00+00:00', 'estimated': '2023-02-17T09:55:00+00:00', 'actual': None, 'estimated_runway': None, 'actual_runway': None}, 'arrival': {'airport': None, 'timezone': None, 'iata': 'PPP', 'icao': 'YBPN', 'terminal': None, 'gate': None, 'baggage': None, 'delay': None, 'scheduled': '2023-02-17T11:45:00+00:00', 'estimated': '2023-02-17T11:45:00+00:00', 'actual': None, 'estimated_runway': None, 'actual_runway': None}, 'airline': {'name': 'Emirates', 'iata': 'EK', 'icao': 'UAE'}, 'flight': {'number': '7498', 'iata': 'EK7498', 'icao': 'UAE7498', 'codeshared': {'airline_name': 'jetstar', 'airline_iata': 'jq', 'airline_icao': 'jst', 'flight_number': '832', 'flight_iata': 'jq832', 'flight_icao': 'jst832'}}, 'aircraft': None, 'live': None}, {'flight_date': '2023-02-17', 'flight_status': 'active', 'departure': {'airport': None, 'timezone': None, 'iata': 'MEL', 'icao': 'YMML', 'terminal': '4', 'gate': '51', 'delay': None, 'scheduled': '2023-02-17T09:55:00+00:00', 'estimated': '2023-02-17T09:55:00+00:00', 'actual': None, 'estimated_runway': None, 'actual_runway': None}, 'arrival': {'airport': None, 'timezone': None, 'iata': 'PPP', 'icao': 'YBPN', 'terminal': None, 'gate': None, 'baggage': None, 'delay': None, 'scheduled': '2023-02-17T11:45:00+00:00', 'estimated': '2023-02-17T11:45:00+00:00', 'actual': None, 'estimated_runway': None, 'actual_runway': None}, 'airline': {'name': 'Qantas', 'iata': 'QF', 'icao': 'QFA'}, 'flight': {'number': '5832', 'iata': 'QF5832', 'icao': 'QFA5832', 'codeshared': {'airline_name': 'jetstar', 'airline_iata': 'jq', 'airline_icao': 'jst', 'flight_number': '832', 'flight_iata': 'jq832', 'flight_icao': 'jst832'}}, 'aircraft': None, 'live': None}, {'flight_date': '2023-02-17', 'flight_status': 'active', 'departure': {'airport': None, 'timezone': None, 'iata': 'MEL', 'icao': 'YMML', 'terminal': '3', 'gate': '7', 'delay': 10, 'scheduled': '2023-02-17T09:30:00+00:00', 'estimated': '2023-02-17T09:30:00+00:00', 'actual': None, 'estimated_runway': None, 'actual_runway': None}, 'arrival': {'airport': None, 'timezone': None, 'iata': 'SYD', 'icao': 'YSSY', 'terminal': '2', 'gate': '38', 'baggage': 'D1', 'delay': None, 'scheduled': '2023-02-17T10:55:00+00:00', 'estimated': '2023-02-17T10:55:00+00:00', 'actual': None, 'estimated_runway': None, 'actual_runway': None}, 'airline': {'name': 'United Airlines', 'iata': 'UA', 'icao': 'UAL'}, 'flight': {'number': '7390', 'iata': 'UA7390', 'icao': 'UAL7390', 'codeshared': {'airline_name': 'virgin australia', 'airline_iata': 'va', 'airline_icao': 'voz', 'flight_number': '829', 'flight_iata': 'va829', 'flight_icao': 'voz829'}}, 'aircraft': None, 'live': None}, {'flight_date': '2023-02-17', 'flight_status': 'active', 'departure': {'airport': None, 'timezone': None, 'iata': 'MEL', 'icao': 'YMML', 'terminal': '3', 'gate': '7', 'delay': 10, 'scheduled': '2023-02-17T09:30:00+00:00', 'estimated': '2023-02-17T09:30:00+00:00', 'actual': None, 'estimated_runway': None, 'actual_runway': None}, 'arrival': {'airport': None, 'timezone': None, 'iata': 'SYD', 'icao': 'YSSY', 'terminal': '2', 'gate': '38', 'baggage': 'D1', 'delay': None, 'scheduled': '2023-02-17T10:55:00+00:00', 'estimated': '2023-02-17T10:55:00+00:00', 'actual': None, 'estimated_runway': None, 'actual_runway': None}, 'airline': {'name': 'Singapore Airlines', 'iata': 'SQ', 'icao': 'SIA'}, 'flight': {'number': '6841', 'iata': 'SQ6841', 'icao': 'SIA6841', 'codeshared': {'airline_name': 'virgin australia', 'airline_iata': 'va', 'airline_icao': 'voz', 'flight_number': '829', 'flight_iata': 'va829', 'flight_icao': 'voz829'}}, 'aircraft': None, 'live': None}, {'flight_date': '2023-02-17', 'flight_status': 'active', 'departure': {'airport': None, 'timezone': None, 'iata': 'MEL', 'icao': 'YMML', 'terminal': '3', 'gate': '7', 'delay': 10, 'scheduled': '2023-02-17T09:30:00+00:00', 'estimated': '2023-02-17T09:30:00+00:00', 'actual': None, 'estimated_runway': None, 'actual_runway': None}, 'arrival': {'airport': None, 'timezone': None, 'iata': 'SYD', 'icao': 'YSSY', 'terminal': '2', 'gate': '38', 'baggage': 'D1', 'delay': None, 'scheduled': '2023-02-17T10:55:00+00:00', 'estimated': '2023-02-17T10:55:00+00:00', 'actual': None, 'estimated_runway': None, 'actual_runway': None}, 'airline': {'name': 'Hawaiian Airlines', 'iata': 'HA', 'icao': 'HAL'}, 'flight': {'number': '4046', 'iata': 'HA4046', 'icao': 'HAL4046', 'codeshared': {'airline_name': 'virgin australia', 'airline_iata': 'va', 'airline_icao': 'voz', 'flight_number': '829', 'flight_iata': 'va829', 'flight_icao': 'voz829'}}, 'aircraft': None, 'live': None}, {'flight_date': '2023-02-17', 'flight_status': 'active', 'departure': {'airport': None, 'timezone': None, 'iata': 'MEL', 'icao': 'YMML', 'terminal': '3', 'gate': '7', 'delay': 10, 'scheduled': '2023-02-17T09:30:00+00:00', 'estimated': '2023-02-17T09:30:00+00:00', 'actual': None, 'estimated_runway': None, 'actual_runway': None}, 'arrival': {'airport': None, 'timezone': None, 'iata': 'SYD', 'icao': 'YSSY', 'terminal': '2', 'gate': '38', 'baggage': 'D1', 'delay': None, 'scheduled': '2023-02-17T10:55:00+00:00', 'estimated': '2023-02-17T10:55:00+00:00', 'actual': None, 'estimated_runway': None, 'actual_runway': None}, 'airline': {'name': 'Etihad Airways', 'iata': 'EY', 'icao': 'ETD'}, 'flight': {'number': '6412', 'iata': 'EY6412', 'icao': 'ETD6412', 'codeshared': {'airline_name': 'virgin australia', 'airline_iata': 'va', 'airline_icao': 'voz', 'flight_number': '829', 'flight_iata': 'va829', 'flight_icao': 'voz829'}}, 'aircraft': None, 'live': None}, {'flight_date': '2023-02-17', 'flight_status': 'active', 'departure': {'airport': None, 'timezone': None, 'iata': 'MEL', 'icao': 'YMML', 'terminal': '2', 'gate': '16', 'delay': None, 'scheduled': '2023-02-17T09:30:00+00:00', 'estimated': '2023-02-17T09:30:00+00:00', 'actual': None, 'estimated_runway': None, 'actual_runway': None}, 'arrival': {'airport': None, 'timezone': None, 'iata': 'BKK', 'icao': 'VTBS', 'terminal': None, 'gate': None, 'baggage': None, 'delay': None, 'scheduled': '2023-02-17T14:40:00+00:00', 'estimated': '2023-02-17T14:40:00+00:00', 'actual': None, 'estimated_runway': None, 'actual_runway': None}, 'airline': {'name': 'Turkish Airlines', 'iata': 'TK', 'icao': 'THY'}, 'flight': {'number': '8019', 'iata': 'TK8019', 'icao': 'THY8019', 'codeshared': {'airline_name': 'thai airways international', 'airline_iata': 'tg', 'airline_icao': 'tha', 'flight_number': '466', 'flight_iata': 'tg466', 'flight_icao': 'tha466'}}, 'aircraft': None, 'live': None}, {'flight_date': '2023-02-17', 'flight_status': 'active', 'departure': {'airport': None, 'timezone': None, 'iata': 'MEL', 'icao': 'YMML', 'terminal': '2', 'gate': '16', 'delay': None, 'scheduled': '2023-02-17T09:30:00+00:00', 'estimated': '2023-02-17T09:30:00+00:00', 'actual': None, 'estimated_runway': None, 'actual_runway': None}, 'arrival': {'airport': None, 'timezone': None, 'iata': 'BKK', 'icao': 'VTBS', 'terminal': None, 'gate': None, 'baggage': None, 'delay': None, 'scheduled': '2023-02-17T14:40:00+00:00', 'estimated': '2023-02-17T14:40:00+00:00', 'actual': None, 'estimated_runway': None, 'actual_runway': None}, 'airline': {'name': 'Austrian', 'iata': 'OS', 'icao': 'AUA'}, 'flight': {'number': '8636', 'iata': 'OS8636', 'icao': 'AUA8636', 'codeshared': {'airline_name': 'thai airways international', 'airline_iata': 'tg', 'airline_icao': 'tha', 'flight_number': '466', 'flight_iata': 'tg466', 'flight_icao': 'tha466'}}, 'aircraft': None, 'live': None}, {'flight_date': '2023-02-17', 'flight_status': 'active', 'departure': {'airport': None, 'timezone': None, 'iata': 'MEL', 'icao': 'YMML', 'terminal': '2', 'gate': '16', 'delay': None, 'scheduled': '2023-02-17T09:30:00+00:00', 'estimated': '2023-02-17T09:30:00+00:00', 'actual': None, 'estimated_runway': None, 'actual_runway': None}, 'arrival': {'airport': None, 'timezone': None, 'iata': 'BKK', 'icao': 'VTBS', 'terminal': None, 'gate': None, 'baggage': None, 'delay': None, 'scheduled': '2023-02-17T14:40:00+00:00', 'estimated': '2023-02-17T14:40:00+00:00', 'actual': None, 'estimated_runway': None, 'actual_runway': None}, 'airline': {'name': 'Lufthansa', 'iata': 'LH', 'icao': 'DLH'}, 'flight': {'number': '9737', 'iata': 'LH9737', 'icao': 'DLH9737', 'codeshared': {'airline_name': 'thai airways international', 'airline_iata': 'tg', 'airline_icao': 'tha', 'flight_number': '466', 'flight_iata': 'tg466', 'flight_icao': 'tha466'}}, 'aircraft': None, 'live': None}, {'flight_date': '2023-02-17', 'flight_status': 'active', 'departure': {'airport': None, 'timezone': None, 'iata': 'MEL', 'icao': 'YMML', 'terminal': '1', 'gate': None, 'delay': None, 'scheduled': '2023-02-17T09:25:00+00:00', 'estimated': '2023-02-17T09:25:00+00:00', 'actual': None, 'estimated_runway': None, 'actual_runway': None}, 'arrival': {'airport': None, 'timezone': None, 'iata': 'SYD', 'icao': 'YSSY', 'terminal': '3', 'gate': 'T3G', 'baggage': 'QFR', 'delay': None, 'scheduled': '2023-02-17T10:50:00+00:00', 'estimated': '2023-02-17T10:50:00+00:00', 'actual': None, 'estimated_runway': None, 'actual_runway': None}, 'airline': {'name': 'LATAM Airlines', 'iata': 'LA', 'icao': 'LAN'}, 'flight': {'number': '4822', 'iata': 'LA4822', 'icao': 'LAN4822', 'codeshared': {'airline_name': 'qantas', 'airline_iata': 'qf', 'airline_icao': 'qfa', 'flight_number': '430', 'flight_iata': 'qf430', 'flight_icao': 'qfa430'}}, 'aircraft': None, 'live': None}, {'flight_date': '2023-02-17', 'flight_status': 'active', 'departure': {'airport': None, 'timezone': None, 'iata': 'MEL', 'icao': 'YMML', 'terminal': '1', 'gate': None, 'delay': None, 'scheduled': '2023-02-17T09:25:00+00:00', 'estimated': '2023-02-17T09:25:00+00:00', 'actual': None, 'estimated_runway': None, 'actual_runway': None}, 'arrival': {'airport': None, 'timezone': None, 'iata': 'SYD', 'icao': 'YSSY', 'terminal': '3', 'gate': 'T3G', 'baggage': 'QFR', 'delay': None, 'scheduled': '2023-02-17T10:50:00+00:00', 'estimated': '2023-02-17T10:50:00+00:00', 'actual': None, 'estimated_runway': None, 'actual_runway': None}, 'airline': {'name': 'China Eastern Airlines', 'iata': 'MU', 'icao': 'CES'}, 'flight': {'number': '4227', 'iata': 'MU4227', 'icao': 'CES4227', 'codeshared': {'airline_name': 'qantas', 'airline_iata': 'qf', 'airline_icao': 'qfa', 'flight_number': '430', 'flight_iata': 'qf430', 'flight_icao': 'qfa430'}}, 'aircraft': None, 'live': None}, {'flight_date': '2023-02-17', 'flight_status': 'active', 'departure': {'airport': None, 'timezone': None, 'iata': 'MEL', 'icao': 'YMML', 'terminal': '1', 'gate': None, 'delay': None, 'scheduled': '2023-02-17T09:25:00+00:00', 'estimated': '2023-02-17T09:25:00+00:00', 'actual': None, 'estimated_runway': None, 'actual_runway': None}, 'arrival': {'airport': None, 'timezone': None, 'iata': 'SYD', 'icao': 'YSSY', 'terminal': '3', 'gate': 'T3G', 'baggage': 'QFR', 'delay': None, 'scheduled': '2023-02-17T10:50:00+00:00', 'estimated': '2023-02-17T10:50:00+00:00', 'actual': None, 'estimated_runway': None, 'actual_runway': None}, 'airline': {'name': 'Air New Zealand', 'iata': 'NZ', 'icao': 'ANZ'}, 'flight': {'number': '1830', 'iata': 'NZ1830', 'icao': 'ANZ1830', 'codeshared': {'airline_name': 'qantas', 'airline_iata': 'qf', 'airline_icao': 'qfa', 'flight_number': '430', 'flight_iata': 'qf430', 'flight_icao': 'qfa430'}}, 'aircraft': None, 'live': None}, {'flight_date': '2023-02-17', 'flight_status': 'active', 'departure': {'airport': None, 'timezone': None, 'iata': 'MEL', 'icao': 'YMML', 'terminal': '1', 'gate': None, 'delay': None, 'scheduled': '2023-02-17T09:25:00+00:00', 'estimated': '2023-02-17T09:25:00+00:00', 'actual': None, 'estimated_runway': None, 'actual_runway': None}, 'arrival': {'airport': None, 'timezone': None, 'iata': 'SYD', 'icao': 'YSSY', 'terminal': '3', 'gate': 'T3G', 'baggage': 'QFR', 'delay': None, 'scheduled': '2023-02-17T10:50:00+00:00', 'estimated': '2023-02-17T10:50:00+00:00', 'actual': None, 'estimated_runway': None, 'actual_runway': None}, 'airline': {'name': 'British Airways', 'iata': 'BA', 'icao': 'BAW'}, 'flight': {'number': '7442', 'iata': 'BA7442', 'icao': 'BAW7442', 'codeshared': {'airline_name': 'qantas', 'airline_iata': 'qf', 'airline_icao': 'qfa', 'flight_number': '430', 'flight_iata': 'qf430', 'flight_icao': 'qfa430'}}, 'aircraft': None, 'live': None}, {'flight_date': '2023-02-17', 'flight_status': 'active', 'departure': {'airport': None, 'timezone': None, 'iata': 'MEL', 'icao': 'YMML', 'terminal': '1', 'gate': None, 'delay': None, 'scheduled': '2023-02-17T09:25:00+00:00', 'estimated': '2023-02-17T09:25:00+00:00', 'actual': None, 'estimated_runway': None, 'actual_runway': None}, 'arrival': {'airport': None, 'timezone': None, 'iata': 'SYD', 'icao': 'YSSY', 'terminal': '3', 'gate': 'T3G', 'baggage': 'QFR', 'delay': None, 'scheduled': '2023-02-17T10:50:00+00:00', 'estimated': '2023-02-17T10:50:00+00:00', 'actual': None, 'estimated_runway': None, 'actual_runway': None}, 'airline': {'name': 'Emirates', 'iata': 'EK', 'icao': 'UAE'}, 'flight': {'number': '5430', 'iata': 'EK5430', 'icao': 'UAE5430', 'codeshared': {'airline_name': 'qantas', 'airline_iata': 'qf', 'airline_icao': 'qfa', 'flight_number': '430', 'flight_iata': 'qf430', 'flight_icao': 'qfa430'}}, 'aircraft': None, 'live': None}, {'flight_date': '2023-02-17', 'flight_status': 'scheduled', 'departure': {'airport': None, 'timezone': None, 'iata': 'HAC', 'icao': 'RJTH', 'terminal': None, 'gate': '1', 'delay': None, 'scheduled': '2023-02-17T13:40:00+00:00', 'estimated': '2023-02-17T13:40:00+00:00', 'actual': None, 'estimated_runway': None, 'actual_runway': None}, 'arrival': {'airport': None, 'timezone': None, 'iata': 'HND', 'icao': 'RJTT', 'terminal': '2', 'gate': None, 'baggage': None, 'delay': None, 'scheduled': '2023-02-17T14:35:00+00:00', 'estimated': '2023-02-17T14:35:00+00:00', 'actual': None, 'estimated_runway': None, 'actual_runway': None}, 'airline': {'name': 'ANA', 'iata': 'NH', 'icao': 'ANA'}, 'flight': {'number': '1894', 'iata': 'NH1894', 'icao': 'ANA1894', 'codeshared': None}, 'aircraft': None, 'live': None}, {'flight_date': '2023-02-17', 'flight_status': 'scheduled', 'departure': {'airport': None, 'timezone': None, 'iata': 'BNE', 'icao': 'YBBN', 'terminal': 'I', 'gate': '80', 'delay': None, 'scheduled': '2023-02-17T09:55:00+00:00', 'estimated': '2023-02-17T09:55:00+00:00', 'actual': None, 'estimated_runway': None, 'actual_runway': None}, 'arrival': {'airport': None, 'timezone': None, 'iata': 'KUL', 'icao': 'WMKK', 'terminal': '1', 'gate': None, 'baggage': None, 'delay': None, 'scheduled': '2023-02-17T16:05:00+00:00', 'estimated': '2023-02-17T16:05:00+00:00', 'actual': None, 'estimated_runway': None, 'actual_runway': None}, 'airline': {'name': 'Oman Air', 'iata': 'WY', 'icao': 'OMA'}, 'flight': {'number': '5363', 'iata': 'WY5363', 'icao': 'OMA5363', 'codeshared': {'airline_name': 'malaysia airlines', 'airline_iata': 'mh', 'airline_icao': 'mas', 'flight_number': '134', 'flight_iata': 'mh134', 'flight_icao': 'mas134'}}, 'aircraft': None, 'live': None}, {'flight_date': '2023-02-17', 'flight_status': 'scheduled', 'departure': {'airport': None, 'timezone': None, 'iata': 'BNE', 'icao': 'YBBN', 'terminal': 'I', 'gate': '80', 'delay': None, 'scheduled': '2023-02-17T09:55:00+00:00', 'estimated': '2023-02-17T09:55:00+00:00', 'actual': None, 'estimated_runway': None, 'actual_runway': None}, 'arrival': {'airport': None, 'timezone': None, 'iata': 'KUL', 'icao': 'WMKK', 'terminal': '1', 'gate': None, 'baggage': None, 'delay': None, 'scheduled': '2023-02-17T16:05:00+00:00', 'estimated': '2023-02-17T16:05:00+00:00', 'actual': None, 'estimated_runway': None, 'actual_runway': None}, 'airline': {'name': 'Firefly', 'iata': 'FY', 'icao': 'FFM'}, 'flight': {'number': '7160', 'iata': 'FY7160', 'icao': 'FFM7160', 'codeshared': {'airline_name': 'malaysia airlines', 'airline_iata': 'mh', 'airline_icao': 'mas', 'flight_number': '134', 'flight_iata': 'mh134', 'flight_icao': 'mas134'}}, 'aircraft': None, 'live': None}, {'flight_date': '2023-02-17', 'flight_status': 'active', 'departure': {'airport': None, 'timezone': None, 'iata': 'BNE', 'icao': 'YBBN', 'terminal': 'D', 'gate': '24', 'delay': None, 'scheduled': '2023-02-17T09:15:00+00:00', 'estimated': '2023-02-17T09:15:00+00:00', 'actual': None, 'estimated_runway': None, 'actual_runway': None}, 'arrival': {'airport': None, 'timezone': None, 'iata': 'MEL', 'icao': 'YMML', 'terminal': '1', 'gate': '6', 'baggage': None, 'delay': None, 'scheduled': '2023-02-17T12:35:00+00:00', 'estimated': '2023-02-17T12:35:00+00:00', 'actual': None, 'estimated_runway': None, 'actual_runway': None}, 'airline': {'name': 'Cathay Pacific', 'iata': 'CX', 'icao': 'CPA'}, 'flight': {'number': '9086', 'iata': 'CX9086', 'icao': 'CPA9086', 'codeshared': {'airline_name': 'qantas', 'airline_iata': 'qf', 'airline_icao': 'qfa', 'flight_number': '613', 'flight_iata': 'qf613', 'flight_icao': 'qfa613'}}, 'aircraft': None, 'live': None}, {'flight_date': '2023-02-17', 'flight_status': 'active', 'departure': {'airport': None, 'timezone': None, 'iata': 'BNE', 'icao': 'YBBN', 'terminal': 'D', 'gate': '24', 'delay': None, 'scheduled': '2023-02-17T09:15:00+00:00', 'estimated': '2023-02-17T09:15:00+00:00', 'actual': None, 'estimated_runway': None, 'actual_runway': None}, 'arrival': {'airport': None, 'timezone': None, 'iata': 'MEL', 'icao': 'YMML', 'terminal': '1', 'gate': '6', 'baggage': None, 'delay': None, 'scheduled': '2023-02-17T12:35:00+00:00', 'estimated': '2023-02-17T12:35:00+00:00', 'actual': None, 'estimated_runway': None, 'actual_runway': None}, 'airline': {'name': 'Air New Zealand', 'iata': 'NZ', 'icao': 'ANZ'}, 'flight': {'number': '7613', 'iata': 'NZ7613', 'icao': 'ANZ7613', 'codeshared': {'airline_name': 'qantas', 'airline_iata': 'qf', 'airline_icao': 'qfa', 'flight_number': '613', 'flight_iata': 'qf613', 'flight_icao': 'qfa613'}}, 'aircraft': None, 'live': None}, {'flight_date': '2023-02-17', 'flight_status': 'active', 'departure': {'airport': None, 'timezone': None, 'iata': 'BNE', 'icao': 'YBBN', 'terminal': 'D', 'gate': '24', 'delay': None, 'scheduled': '2023-02-17T09:15:00+00:00', 'estimated': '2023-02-17T09:15:00+00:00', 'actual': None, 'estimated_runway': None, 'actual_runway': None}, 'arrival': {'airport': None, 'timezone': None, 'iata': 'MEL', 'icao': 'YMML', 'terminal': '1', 'gate': '6', 'baggage': None, 'delay': None, 'scheduled': '2023-02-17T12:35:00+00:00', 'estimated': '2023-02-17T12:35:00+00:00', 'actual': None, 'estimated_runway': None, 'actual_runway': None}, 'airline': {'name': 'Emirates', 'iata': 'EK', 'icao': 'UAE'}, 'flight': {'number': '5613', 'iata': 'EK5613', 'icao': 'UAE5613', 'codeshared': {'airline_name': 'qantas', 'airline_iata': 'qf', 'airline_icao': 'qfa', 'flight_number': '613', 'flight_iata': 'qf613', 'flight_icao': 'qfa613'}}, 'aircraft': None, 'live': None}, {'flight_date': '2023-02-17', 'flight_status': 'active', 'departure': {'airport': None, 'timezone': None, 'iata': 'BNE', 'icao': 'YBBN', 'terminal': 'D', 'gate': '20', 'delay': 5, 'scheduled': '2023-02-17T09:15:00+00:00', 'estimated': '2023-02-17T09:15:00+00:00', 'actual': None, 'estimated_runway': None, 'actual_runway': None}, 'arrival': {'airport': None, 'timezone': None, 'iata': 'SYD', 'icao': 'YSSY', 'terminal': '3', 'gate': 'T3G', 'baggage': 'QFR', 'delay': None, 'scheduled': '2023-02-17T11:50:00+00:00', 'estimated': '2023-02-17T11:50:00+00:00', 'actual': None, 'estimated_runway': None, 'actual_runway': None}, 'airline': {'name': 'Air New Zealand', 'iata': 'NZ', 'icao': 'ANZ'}, 'flight': {'number': '1717', 'iata': 'NZ1717', 'icao': 'ANZ1717', 'codeshared': {'airline_name': 'qantas', 'airline_iata': 'qf', 'airline_icao': 'qfa', 'flight_number': '517', 'flight_iata': 'qf517', 'flight_icao': 'qfa517'}}, 'aircraft': None, 'live': None}, {'flight_date': '2023-02-17', 'flight_status': 'active', 'departure': {'airport': None, 'timezone': None, 'iata': 'BNE', 'icao': 'YBBN', 'terminal': 'D', 'gate': '20', 'delay': 5, 'scheduled': '2023-02-17T09:15:00+00:00', 'estimated': '2023-02-17T09:15:00+00:00', 'actual': None, 'estimated_runway': None, 'actual_runway': None}, 'arrival': {'airport': None, 'timezone': None, 'iata': 'SYD', 'icao': 'YSSY', 'terminal': '3', 'gate': 'T3G', 'baggage': 'QFR', 'delay': None, 'scheduled': '2023-02-17T11:50:00+00:00', 'estimated': '2023-02-17T11:50:00+00:00', 'actual': None, 'estimated_runway': None, 'actual_runway': None}, 'airline': {'name': 'Emirates', 'iata': 'EK', 'icao': 'UAE'}, 'flight': {'number': '5517', 'iata': 'EK5517', 'icao': 'UAE5517', 'codeshared': {'airline_name': 'qantas', 'airline_iata': 'qf', 'airline_icao': 'qfa', 'flight_number': '517', 'flight_iata': 'qf517', 'flight_icao': 'qfa517'}}, 'aircraft': None, 'live': None}, {'flight_date': '2023-02-17', 'flight_status': 'scheduled', 'departure': {'airport': None, 'timezone': None, 'iata': 'BLR', 'icao': 'VOBL', 'terminal': '1', 'gate': '9', 'delay': None, 'scheduled': '2023-02-17T08:45:00+00:00', 'estimated': '2023-02-17T08:45:00+00:00', 'actual': None, 'estimated_runway': None, 'actual_runway': None}, 'arrival': {'airport': None, 'timezone': None, 'iata': 'JAI', 'icao': 'VIJP', 'terminal': '2', 'gate': None, 'baggage': '3', 'delay': None, 'scheduled': '2023-02-17T11:25:00+00:00', 'estimated': '2023-02-17T11:25:00+00:00', 'actual': None, 'estimated_runway': None, 'actual_runway': None}, 'airline': {'name': 'Qantas', 'iata': 'QF', 'icao': 'QFA'}, 'flight': {'number': '8886', 'iata': 'QF8886', 'icao': 'QFA8886', 'codeshared': {'airline_name': 'indigo', 'airline_iata': '6e', 'airline_icao': 'igo', 'flight_number': '415', 'flight_iata': '6e415', 'flight_icao': 'igo415'}}, 'aircraft': None, 'live': None}, {'flight_date': '2023-02-17', 'flight_status': 'scheduled', 'departure': {'airport': None, 'timezone': None, 'iata': 'DEL', 'icao': 'VIDP', 'terminal': '2', 'gate': '201', 'delay': None, 'scheduled': '2023-02-17T07:20:00+00:00', 'estimated': '2023-02-17T07:20:00+00:00', 'actual': None, 'estimated_runway': None, 'actual_runway': None}, 'arrival': {'airport': None, 'timezone': None, 'iata': 'BOM', 'icao': 'VABB', 'terminal': '1', 'gate': 'C14', 'baggage': None, 'delay': None, 'scheduled': '2023-02-17T09:30:00+00:00', 'estimated': '2023-02-17T09:30:00+00:00', 'actual': None, 'estimated_runway': None, 'actual_runway': None}, 'airline': {'name': 'FlexFlight', 'iata': 'W2', 'icao': 'FXT'}, 'flight': {'number': '8782', 'iata': 'W28782', 'icao': 'FXT8782', 'codeshared': {'airline_name': 'goair', 'airline_iata': 'g8', 'airline_icao': 'gow', 'flight_number': '334', 'flight_iata': 'g8334', 'flight_icao': 'gow334'}}, 'aircraft': None, 'live': None}, {'flight_date': '2023-02-17', 'flight_status': 'active', 'departure': {'airport': None, 'timezone': None, 'iata': 'DOH', 'icao': 'OTHH', 'terminal': None, 'gate': 'A6', 'delay': 5, 'scheduled': '2023-02-17T01:15:00+00:00', 'estimated': '2023-02-17T01:15:00+00:00', 'actual': None, 'estimated_runway': None, 'actual_runway': None}, 'arrival': {'airport': None, 'timezone': None, 'iata': 'CMB', 'icao': 'VCBI', 'terminal': None, 'gate': None, 'baggage': '05', 'delay': None, 'scheduled': '2023-02-17T08:25:00+00:00', 'estimated': '2023-02-17T08:25:00+00:00', 'actual': None, 'estimated_runway': None, 'actual_runway': None}, 'airline': {'name': 'Oman Air', 'iata': 'WY', 'icao': 'OMA'}, 'flight': {'number': '664', 'iata': 'WY664', 'icao': 'OMA664', 'codeshared': None}, 'aircraft': None, 'live': None}, {'flight_date': '2023-02-17', 'flight_status': 'scheduled', 'departure': {'airport': None, 'timezone': None, 'iata': 'MJN', 'icao': 'FMNM', 'terminal': None, 'gate': None, 'delay': None, 'scheduled': '2023-02-17T07:45:00+00:00', 'estimated': '2023-02-17T07:45:00+00:00', 'actual': None, 'estimated_runway': None, 'actual_runway': None}, 'arrival': {'airport': None, 'timezone': None, 'iata': 'DZA', 'icao': 'FMCZ', 'terminal': None, 'gate': None, 'baggage': None, 'delay': None, 'scheduled': '2023-02-17T08:45:00+00:00', 'estimated': '2023-02-17T08:45:00+00:00', 'actual': None, 'estimated_runway': None, 'actual_runway': None}, 'airline': {'name': 'EWA Air', 'iata': 'ZD', 'icao': 'EWR'}, 'flight': {'number': '245', 'iata': 'ZD245', 'icao': 'EWR245', 'codeshared': None}, 'aircraft': None, 'live': None}, {'flight_date': '2023-02-17', 'flight_status': 'scheduled', 'departure': {'airport': None, 'timezone': None, 'iata': 'DXB', 'icao': 'OMDB', 'terminal': '1', 'gate': 'D13', 'delay': None, 'scheduled': '2023-02-17T05:00:00+00:00', 'estimated': '2023-02-17T05:00:00+00:00', 'actual': None, 'estimated_runway': None, 'actual_runway': None}, 'arrival': {'airport': None, 'timezone': None, 'iata': 'CAI', 'icao': 'HECA', 'terminal': '3', 'gate': None, 'baggage': None, 'delay': None, 'scheduled': '2023-02-17T07:10:00+00:00', 'estimated': '2023-02-17T07:10:00+00:00', 'actual': None, 'estimated_runway': None, 'actual_runway': None}, 'airline': {'name': 'Singapore Airlines', 'iata': 'SQ', 'icao': 'SIA'}, 'flight': {'number': '6031', 'iata': 'SQ6031', 'icao': 'SIA6031', 'codeshared': {'airline_name': 'egyptair', 'airline_iata': 'ms', 'airline_icao': 'msr', 'flight_number': '911', 'flight_iata': 'ms911', 'flight_icao': 'msr911'}}, 'aircraft': None, 'live': None}, {'flight_date': '2023-02-17', 'flight_status': 'scheduled', 'departure': {'airport': None, 'timezone': None, 'iata': 'DXB', 'icao': 'OMDB', 'terminal': '1', 'gate': 'D13', 'delay': None, 'scheduled': '2023-02-17T05:00:00+00:00', 'estimated': '2023-02-17T05:00:00+00:00', 'actual': None, 'estimated_runway': None, 'actual_runway': None}, 'arrival': {'airport': None, 'timezone': None, 'iata': 'CAI', 'icao': 'HECA', 'terminal': '3', 'gate': None, 'baggage': None, 'delay': None, 'scheduled': '2023-02-17T07:10:00+00:00', 'estimated': '2023-02-17T07:10:00+00:00', 'actual': None, 'estimated_runway': None, 'actual_runway': None}, 'airline': {'name': 'Aegean Airlines', 'iata': 'A3', 'icao': 'AEE'}, 'flight': {'number': '1345', 'iata': 'A31345', 'icao': 'AEE1345', 'codeshared': {'airline_name': 'egyptair', 'airline_iata': 'ms', 'airline_icao': 'msr', 'flight_number': '911', 'flight_iata': 'ms911', 'flight_icao': 'msr911'}}, 'aircraft': None, 'live': None}, {'flight_date': '2023-02-17', 'flight_status': 'scheduled', 'departure': {'airport': None, 'timezone': None, 'iata': 'DXB', 'icao': 'OMDB', 'terminal': '3', 'gate': 'B21', 'delay': None, 'scheduled': '2023-02-17T04:40:00+00:00', 'estimated': '2023-02-17T04:40:00+00:00', 'actual': None, 'estimated_runway': None, 'actual_runway': None}, 'arrival': {'airport': None, 'timezone': None, 'iata': 'JNB', 'icao': 'FAOR', 'terminal': 'A', 'gate': 'A16', 'baggage': None, 'delay': None, 'scheduled': '2023-02-17T10:55:00+00:00', 'estimated': '2023-02-17T10:55:00+00:00', 'actual': None, 'estimated_runway': None, 'actual_runway': None}, 'airline': {'name': 'South African Airways', 'iata': 'SA', 'icao': 'SAA'}, 'flight': {'number': '7159', 'iata': 'SA7159', 'icao': 'SAA7159', 'codeshared': {'airline_name': 'emirates', 'airline_iata': 'ek', 'airline_icao': 'uae', 'flight_number': '761', 'flight_iata': 'ek761', 'flight_icao': 'uae761'}}, 'aircraft': None, 'live': None}, {'flight_date': '2023-02-17', 'flight_status': 'scheduled', 'departure': {'airport': None, 'timezone': None, 'iata': 'DXB', 'icao': 'OMDB', 'terminal': '3', 'gate': 'B23', 'delay': None, 'scheduled': '2023-02-17T04:35:00+00:00', 'estimated': '2023-02-17T04:35:00+00:00', 'actual': None, 'estimated_runway': None, 'actual_runway': None}, 'arrival': {'airport': None, 'timezone': None, 'iata': 'CGK', 'icao': 'WIII', 'terminal': '3', 'gate': None, 'baggage': None, 'delay': None, 'scheduled': '2023-02-17T15:45:00+00:00', 'estimated': '2023-02-17T15:45:00+00:00', 'actual': None, 'estimated_runway': None, 'actual_runway': None}, 'airline': {'name': 'Garuda Indonesia', 'iata': 'GA', 'icao': 'GIA'}, 'flight': {'number': '8850', 'iata': 'GA8850', 'icao': 'GIA8850', 'codeshared': {'airline_name': 'emirates', 'airline_iata': 'ek', 'airline_icao': 'uae', 'flight_number': '356', 'flight_iata': 'ek356', 'flight_icao': 'uae356'}}, 'aircraft': None, 'live': None}, {'flight_date': '2023-02-17', 'flight_status': 'scheduled', 'departure': {'airport': None, 'timezone': None, 'iata': 'DXB', 'icao': 'OMDB', 'terminal': '3', 'gate': 'B23', 'delay': None, 'scheduled': '2023-02-17T04:35:00+00:00', 'estimated': '2023-02-17T04:35:00+00:00', 'actual': None, 'estimated_runway': None, 'actual_runway': None}, 'arrival': {'airport': None, 'timezone': None, 'iata': 'CGK', 'icao': 'WIII', 'terminal': '3', 'gate': None, 'baggage': None, 'delay': None, 'scheduled': '2023-02-17T15:45:00+00:00', 'estimated': '2023-02-17T15:45:00+00:00', 'actual': None, 'estimated_runway': None, 'actual_runway': None}, 'airline': {'name': 'flydubai', 'iata': 'FZ', 'icao': 'FDB'}, 'flight': {'number': '6356', 'iata': 'FZ6356', 'icao': 'FDB6356', 'codeshared': {'airline_name': 'emirates', 'airline_iata': 'ek', 'airline_icao': 'uae', 'flight_number': '356', 'flight_iata': 'ek356', 'flight_icao': 'uae356'}}, 'aircraft': None, 'live': None}, {'flight_date': '2023-02-17', 'flight_status': 'scheduled', 'departure': {'airport': None, 'timezone': None, 'iata': 'DXB', 'icao': 'OMDB', 'terminal': '3', 'gate': 'B23', 'delay': None, 'scheduled': '2023-02-17T04:35:00+00:00', 'estimated': '2023-02-17T04:35:00+00:00', 'actual': None, 'estimated_runway': None, 'actual_runway': None}, 'arrival': {'airport': None, 'timezone': None, 'iata': 'CGK', 'icao': 'WIII', 'terminal': '3', 'gate': None, 'baggage': None, 'delay': None, 'scheduled': '2023-02-17T15:45:00+00:00', 'estimated': '2023-02-17T15:45:00+00:00', 'actual': None, 'estimated_runway': None, 'actual_runway': None}, 'airline': {'name': 'Air Baltic', 'iata': 'BT', 'icao': 'BTI'}, 'flight': {'number': '5809', 'iata': 'BT5809', 'icao': 'BTI5809', 'codeshared': {'airline_name': 'emirates', 'airline_iata': 'ek', 'airline_icao': 'uae', 'flight_number': '356', 'flight_iata': 'ek356', 'flight_icao': 'uae356'}}, 'aircraft': None, 'live': None}, {'flight_date': '2023-02-17', 'flight_status': 'scheduled', 'departure': {'airport': None, 'timezone': None, 'iata': 'LEJ', 'icao': 'EDDP', 'terminal': None, 'gate': None, 'delay': None, 'scheduled': '2023-02-17T04:15:00+00:00', 'estimated': '2023-02-17T04:15:00+00:00', 'actual': None, 'estimated_runway': None, 'actual_runway': None}, 'arrival': {'airport': None, 'timezone': None, 'iata': 'BSL', 'icao': 'LFSB', 'terminal': None, 'gate': None, 'baggage': None, 'delay': None, 'scheduled': '2023-02-17T05:33:00+00:00', 'estimated': '2023-02-17T05:33:00+00:00', 'actual': None, 'estimated_runway': None, 'actual_runway': None}, 'airline': {'name': 'DHL Air', 'iata': 'D0', 'icao': 'DHK'}, 'flight': {'number': '4904', 'iata': 'D04904', 'icao': 'DHK4904', 'codeshared': None}, 'aircraft': None, 'live': None}, {'flight_date': '2023-02-17', 'flight_status': 'scheduled', 'departure': {'airport': None, 'timezone': None, 'iata': 'BRU', 'icao': 'EBBR', 'terminal': None, 'gate': None, 'delay': 15, 'scheduled': '2023-02-17T03:10:00+00:00', 'estimated': '2023-02-17T03:10:00+00:00', 'actual': None, 'estimated_runway': None, 'actual_runway': None}, 'arrival': {'airport': None, 'timezone': None, 'iata': 'MAD', 'icao': 'LEMD', 'terminal': '1', 'gate': None, 'baggage': None, 'delay': None, 'scheduled': '2023-02-17T05:17:00+00:00', 'estimated': '2023-02-17T05:17:00+00:00', 'actual': None, 'estimated_runway': None, 'actual_runway': None}, 'airline': {'name': 'DHL Air', 'iata': 'D0', 'icao': 'DHK'}, 'flight': {'number': None, 'iata': 'D0', 'icao': 'DHK', 'codeshared': None}, 'aircraft': None, 'live': None}, {'flight_date': '2023-02-17', 'flight_status': 'scheduled', 'departure': {'airport': None, 'timezone': None, 'iata': 'TJU', 'icao': 'UTDK', 'terminal': None, 'gate': None, 'delay': None, 'scheduled': '2023-02-17T08:10:00+00:00', 'estimated': '2023-02-17T08:10:00+00:00', 'actual': None, 'estimated_runway': None, 'actual_runway': None}, 'arrival': {'airport': None, 'timezone': None, 'iata': 'DME', 'icao': 'UUDD', 'terminal': None, 'gate': None, 'baggage': None, 'delay': None, 'scheduled': '2023-02-17T11:05:00+00:00', 'estimated': '2023-02-17T11:05:00+00:00', 'actual': None, 'estimated_runway': None, 'actual_runway': None}, 'airline': {'name': 'Ural Airlines', 'iata': 'U6', 'icao': 'SVR'}, 'flight': {'number': '2970', 'iata': 'U62970', 'icao': 'SVR2970', 'codeshared': None}, 'aircraft': None, 'live': None}, {'flight_date': '2023-02-17', 'flight_status': 'scheduled', 'departure': {'airport': None, 'timezone': None, 'iata': 'TJU', 'icao': 'UTDK', 'terminal': None, 'gate': None, 'delay': None, 'scheduled': '2023-02-17T06:10:00+00:00', 'estimated': '2023-02-17T06:10:00+00:00', 'actual': None, 'estimated_runway': None, 'actual_runway': None}, 'arrival': {'airport': None, 'timezone': None, 'iata': 'ZIA', 'icao': 'UUBW', 'terminal': None, 'gate': None, 'baggage': None, 'delay': None, 'scheduled': '2023-02-17T08:55:00+00:00', 'estimated': '2023-02-17T08:55:00+00:00', 'actual': None, 'estimated_runway': None, 'actual_runway': None}, 'airline': {'name': 'Ural Airlines', 'iata': 'U6', 'icao': 'SVR'}, 'flight': {'number': '2432', 'iata': 'U62432', 'icao': 'SVR2432', 'codeshared': None}, 'aircraft': None, 'live': None}, {'flight_date': '2023-02-17', 'flight_status': 'scheduled', 'departure': {'airport': None, 'timezone': None, 'iata': 'TJU', 'icao': 'UTDK', 'terminal': None, 'gate': None, 'delay': 30, 'scheduled': '2023-02-17T05:20:00+00:00', 'estimated': '2023-02-17T05:20:00+00:00', 'actual': None, 'estimated_runway': None, 'actual_runway': None}, 'arrival': {'airport': None, 'timezone': None, 'iata': 'DME', 'icao': 'UUDD', 'terminal': None, 'gate': None, 'baggage': None, 'delay': None, 'scheduled': '2023-02-17T08:15:00+00:00', 'estimated': '2023-02-17T08:15:00+00:00', 'actual': None, 'estimated_runway': None, 'actual_runway': None}, 'airline': {'name': 'Ural Airlines', 'iata': 'U6', 'icao': 'SVR'}, 'flight': {'number': '8970', 'iata': 'U68970', 'icao': 'SVR8970', 'codeshared': None}, 'aircraft': None, 'live': None}, {'flight_date': '2023-02-17', 'flight_status': 'scheduled', 'departure': {'airport': None, 'timezone': None, 'iata': 'MLA', 'icao': 'LMML', 'terminal': None, 'gate': None, 'delay': None, 'scheduled': '2023-02-17T06:05:00+00:00', 'estimated': '2023-02-17T06:05:00+00:00', 'actual': None, 'estimated_runway': None, 'actual_runway': None}, 'arrival': {'airport': None, 'timezone': None, 'iata': 'LUX', 'icao': 'ELLX', 'terminal': None, 'gate': None, 'baggage': None, 'delay': None, 'scheduled': '2023-02-17T08:50:00+00:00', 'estimated': '2023-02-17T08:50:00+00:00', 'actual': None, 'estimated_runway': None, 'actual_runway': None}, 'airline': {'name': 'Ryanair', 'iata': 'FR', 'icao': 'RYR'}, 'flight': {'number': '7221', 'iata': 'FR7221', 'icao': 'RYR7221', 'codeshared': None}, 'aircraft': None, 'live': None}, {'flight_date': '2023-02-17', 'flight_status': 'scheduled', 'departure': {'airport': None, 'timezone': None, 'iata': 'MLA', 'icao': 'LMML', 'terminal': None, 'gate': None, 'delay': None, 'scheduled': '2023-02-17T06:05:00+00:00', 'estimated': '2023-02-17T06:05:00+00:00', 'actual': None, 'estimated_runway': None, 'actual_runway': None}, 'arrival': {'airport': None, 'timezone': None, 'iata': 'BGY', 'icao': 'LIME', 'terminal': None, 'gate': None, 'baggage': None, 'delay': None, 'scheduled': '2023-02-17T08:05:00+00:00', 'estimated': '2023-02-17T08:05:00+00:00', 'actual': None, 'estimated_runway': None, 'actual_runway': None}, 'airline': {'name': 'Ryanair', 'iata': 'FR', 'icao': 'RYR'}, 'flight': {'number': '3606', 'iata': 'FR3606', 'icao': 'RYR3606', 'codeshared': None}, 'aircraft': None, 'live': None}, {'flight_date': '2023-02-17', 'flight_status': 'scheduled', 'departure': {'airport': None, 'timezone': None, 'iata': 'MLA', 'icao': 'LMML', 'terminal': None, 'gate': None, 'delay': 15, 'scheduled': '2023-02-17T05:50:00+00:00', 'estimated': '2023-02-17T05:50:00+00:00', 'actual': None, 'estimated_runway': None, 'actual_runway': None}, 'arrival': {'airport': None, 'timezone': None, 'iata': 'MRS', 'icao': 'LFML', 'terminal': '2', 'gate': None, 'baggage': None, 'delay': None, 'scheduled': '2023-02-17T07:50:00+00:00', 'estimated': '2023-02-17T07:50:00+00:00', 'actual': None, 'estimated_runway': None, 'actual_runway': None}, 'airline': {'name': 'Ryanair', 'iata': 'FR', 'icao': 'RYR'}, 'flight': {'number': '7795', 'iata': 'FR7795', 'icao': 'RYR7795', 'codeshared': None}, 'aircraft': None, 'live': None}, {'flight_date': '2023-02-17', 'flight_status': 'scheduled', 'departure': {'airport': None, 'timezone': None, 'iata': 'MLA', 'icao': 'LMML', 'terminal': None, 'gate': None, 'delay': 6, 'scheduled': '2023-02-17T05:45:00+00:00', 'estimated': '2023-02-17T05:45:00+00:00', 'actual': None, 'estimated_runway': None, 'actual_runway': None}, 'arrival': {'airport': None, 'timezone': None, 'iata': 'LTN', 'icao': 'EGGW', 'terminal': None, 'gate': None, 'baggage': None, 'delay': None, 'scheduled': '2023-02-17T08:07:00+00:00', 'estimated': '2023-02-17T08:07:00+00:00', 'actual': None, 'estimated_runway': None, 'actual_runway': None}, 'airline': {'name': 'empty', 'iata': None, 'icao': None}, 'flight': {'number': None, 'iata': None, 'icao': None, 'codeshared': None}, 'aircraft': None, 'live': None}, {'flight_date': '2023-02-17', 'flight_status': 'scheduled', 'departure': {'airport': None, 'timezone': None, 'iata': 'MLA', 'icao': 'LMML', 'terminal': None, 'gate': None, 'delay': 15, 'scheduled': '2023-02-17T05:45:00+00:00', 'estimated': '2023-02-17T05:45:00+00:00', 'actual': None, 'estimated_runway': None, 'actual_runway': None}, 'arrival': {'airport': None, 'timezone': None, 'iata': 'CGN', 'icao': 'EDDK', 'terminal': '2', 'gate': None, 'baggage': None, 'delay': None, 'scheduled': '2023-02-17T08:40:00+00:00', 'estimated': '2023-02-17T08:40:00+00:00', 'actual': None, 'estimated_runway': None, 'actual_runway': None}, 'airline': {'name': 'Ryanair', 'iata': 'FR', 'icao': 'RYR'}, 'flight': {'number': '7176', 'iata': 'FR7176', 'icao': 'RYR7176', 'codeshared': None}, 'aircraft': None, 'live': None}]}"
     ]
    }
   ],
   "source": [
    "params = {\n",
    "  'access_key': '5cf29606576465e5ccb8081fb532387b'\n",
    "}\n",
    "\n",
    "api_result = requests.get('http://api.aviationstack.com/v1/flights', params)\n",
    "\n",
    "api_response = api_result.json()\n",
    "\n",
    "print(api_response)"
   ]
  },
  {
   "cell_type": "code",
   "execution_count": 7,
   "id": "8da922ee-9979-47b1-8878-8b5c1d5fc8e0",
   "metadata": {
    "execution": {
     "iopub.execute_input": "2023-02-16T22:51:12.781641Z",
     "iopub.status.busy": "2023-02-16T22:51:12.781406Z",
     "iopub.status.idle": "2023-02-16T22:51:26.156515Z",
     "shell.execute_reply": "2023-02-16T22:51:26.155871Z",
     "shell.execute_reply.started": "2023-02-16T22:51:12.781616Z"
    }
   },
   "outputs": [
    {
     "data": {
      "application/vnd.jupyter.widget-view+json": {
       "model_id": "878f706c472945e68eff2c210a2bdba3",
       "version_major": 2,
       "version_minor": 0
      },
      "text/plain": [
       "VBox()"
      ]
     },
     "metadata": {},
     "output_type": "display_data"
    },
    {
     "data": {
      "application/vnd.jupyter.widget-view+json": {
       "model_id": "",
       "version_major": 2,
       "version_minor": 0
      },
      "text/plain": [
       "FloatProgress(value=0.0, bar_style='info', description='Progress:', layout=Layout(height='25px', width='50%'),…"
      ]
     },
     "metadata": {},
     "output_type": "display_data"
    },
    {
     "name": "stdout",
     "output_type": "stream",
     "text": [
      "+----+-----+\n",
      "|hour|count|\n",
      "+----+-----+\n",
      "|   4|    4|\n",
      "|   5|    2|\n",
      "|   6|    1|\n",
      "|   7|    5|\n",
      "|   8|    9|\n",
      "|   9|    1|\n",
      "|  10|   11|\n",
      "|  11|   16|\n",
      "|  12|    6|\n",
      "|  13|    4|\n",
      "|  14|    7|\n",
      "|  15|    4|\n",
      "|  16|   14|\n",
      "|  17|   11|\n",
      "|  18|    1|\n",
      "|  20|    1|\n",
      "|  21|    2|\n",
      "|  23|    1|\n",
      "+----+-----+"
     ]
    }
   ],
   "source": [
    "# list all arrival times and count planes in each hour\n",
    "hours = []\n",
    "for d in api_response['data']:\n",
    "#     print(d['arrival']['estimated'])\n",
    "    hours.append((int(d['arrival']['estimated'][-14:-12]),))\n",
    "    \n",
    "cols = [\"hour\"]\n",
    "DF = spark.createDataFrame(data=hours, schema = cols)\n",
    "DF.groupBy(\"hour\").count().sort(\"hour\").show()"
   ]
  },
  {
   "cell_type": "code",
   "execution_count": 8,
   "id": "9143f843-3ae5-45ea-8d35-2ad27f50e55b",
   "metadata": {
    "execution": {
     "iopub.execute_input": "2023-02-16T22:51:59.985643Z",
     "iopub.status.busy": "2023-02-16T22:51:59.985414Z",
     "iopub.status.idle": "2023-02-16T22:52:00.780649Z",
     "shell.execute_reply": "2023-02-16T22:52:00.779765Z",
     "shell.execute_reply.started": "2023-02-16T22:51:59.985618Z"
    }
   },
   "outputs": [
    {
     "data": {
      "application/vnd.jupyter.widget-view+json": {
       "model_id": "952f40cf83ba46d0845380bf1c4211e4",
       "version_major": 2,
       "version_minor": 0
      },
      "text/plain": [
       "VBox()"
      ]
     },
     "metadata": {},
     "output_type": "display_data"
    },
    {
     "data": {
      "application/vnd.jupyter.widget-view+json": {
       "model_id": "",
       "version_major": 2,
       "version_minor": 0
      },
      "text/plain": [
       "FloatProgress(value=0.0, bar_style='info', description='Progress:', layout=Layout(height='25px', width='50%'),…"
      ]
     },
     "metadata": {},
     "output_type": "display_data"
    },
    {
     "name": "stdout",
     "output_type": "stream",
     "text": [
      "+----+-----+\n",
      "|hour|count|\n",
      "+----+-----+\n",
      "|   1|    5|\n",
      "|   3|    1|\n",
      "|   4|    5|\n",
      "|   5|    8|\n",
      "|   6|    6|\n",
      "|   7|    2|\n",
      "|   8|    2|\n",
      "|   9|   22|\n",
      "|  10|   12|\n",
      "|  11|    4|\n",
      "|  12|    3|\n",
      "|  13|    1|\n",
      "|  15|   21|\n",
      "|  16|    8|\n",
      "+----+-----+"
     ]
    }
   ],
   "source": [
    "# list all departure times and count planes in each hour\n",
    "hours = []\n",
    "for d in api_response['data']:\n",
    "#     print(d['departure']['estimated'])\n",
    "    hours.append((int(d['departure']['estimated'][-14:-12]),))\n",
    "    \n",
    "cols = [\"hour\"]\n",
    "DF = spark.createDataFrame(data=hours, schema = cols)\n",
    "DF.groupBy(\"hour\").count().sort(\"hour\").show()"
   ]
  },
  {
   "cell_type": "code",
   "execution_count": 9,
   "id": "9568ee87-518c-4e15-be43-8ce6caf09e7f",
   "metadata": {
    "execution": {
     "iopub.execute_input": "2023-02-16T23:03:38.259071Z",
     "iopub.status.busy": "2023-02-16T23:03:38.258816Z",
     "iopub.status.idle": "2023-02-16T23:03:38.528782Z",
     "shell.execute_reply": "2023-02-16T23:03:38.528062Z",
     "shell.execute_reply.started": "2023-02-16T23:03:38.259045Z"
    }
   },
   "outputs": [
    {
     "data": {
      "application/vnd.jupyter.widget-view+json": {
       "model_id": "db29aae34c0b448ab86da6ad227e6712",
       "version_major": 2,
       "version_minor": 0
      },
      "text/plain": [
       "VBox()"
      ]
     },
     "metadata": {},
     "output_type": "display_data"
    },
    {
     "data": {
      "application/vnd.jupyter.widget-view+json": {
       "model_id": "",
       "version_major": 2,
       "version_minor": 0
      },
      "text/plain": [
       "FloatProgress(value=0.0, bar_style='info', description='Progress:', layout=Layout(height='25px', width='50%'),…"
      ]
     },
     "metadata": {},
     "output_type": "display_data"
    },
    {
     "name": "stdout",
     "output_type": "stream",
     "text": [
      "{'pagination': {'offset': 0, 'limit': 100, 'count': 0, 'total': 0}, 'data': []}"
     ]
    }
   ],
   "source": [
    "params = {\n",
    "  'access_key': '5cf29606576465e5ccb8081fb532387b'\n",
    "}\n",
    "\n",
    "api_result = requests.get('http://api.aviationstack.com/v1/countries', params)\n",
    "\n",
    "api_response = api_result.json()\n",
    "\n",
    "print(api_response)"
   ]
  },
  {
   "cell_type": "code",
   "execution_count": null,
   "id": "c284d20c-80a9-4d51-9438-206571afb32c",
   "metadata": {},
   "outputs": [],
   "source": []
  }
 ],
 "metadata": {
  "kernelspec": {
   "display_name": "PySpark",
   "language": "python",
   "name": "pysparkkernel"
  },
  "language_info": {
   "codemirror_mode": {
    "name": "python",
    "version": 3
   },
   "file_extension": ".py",
   "mimetype": "text/x-python",
   "name": "pyspark",
   "pygments_lexer": "python3"
  }
 },
 "nbformat": 4,
 "nbformat_minor": 5
}
