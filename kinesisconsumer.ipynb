{
 "cells": [
  {
   "cell_type": "code",
   "execution_count": 1,
   "id": "c09d8088-a2da-46d7-a117-b4dce39d7900",
   "metadata": {
    "execution": {
     "iopub.execute_input": "2023-02-05T20:28:23.109765Z",
     "iopub.status.busy": "2023-02-05T20:28:23.109334Z",
     "iopub.status.idle": "2023-02-05T20:28:30.478795Z",
     "shell.execute_reply": "2023-02-05T20:28:30.477885Z",
     "shell.execute_reply.started": "2023-02-05T20:28:23.109709Z"
    },
    "tags": []
   },
   "outputs": [
    {
     "data": {
      "application/vnd.jupyter.widget-view+json": {
       "model_id": "f956a1f72a024dd0851b521688469f45",
       "version_major": 2,
       "version_minor": 0
      },
      "text/plain": [
       "VBox()"
      ]
     },
     "metadata": {},
     "output_type": "display_data"
    },
    {
     "name": "stdout",
     "output_type": "stream",
     "text": [
      "Starting Spark application\n"
     ]
    },
    {
     "data": {
      "text/html": [
       "<table>\n",
       "<tr><th>ID</th><th>YARN Application ID</th><th>Kind</th><th>State</th><th>Spark UI</th><th>Driver log</th><th>User</th><th>Current session?</th></tr><tr><td>2</td><td>application_1675699948280_0003</td><td>pyspark</td><td>idle</td><td><a target=\"_blank\" href=\"http://ip-172-31-62-236.ec2.internal:20888/proxy/application_1675699948280_0003/\" class=\"emr-proxy-link\" emr-resource=\"j-GI7HGCJ93CF\n",
       "\" application-id=\"application_1675699948280_0003\">Link</a></td><td><a target=\"_blank\" href=\"http://ip-172-31-50-44.ec2.internal:8042/node/containerlogs/container_1675699948280_0003_01_000001/livy\" >Link</a></td><td>None</td><td>✔</td></tr></table>"
      ],
      "text/plain": [
       "<IPython.core.display.HTML object>"
      ]
     },
     "metadata": {},
     "output_type": "display_data"
    },
    {
     "data": {
      "application/vnd.jupyter.widget-view+json": {
       "model_id": "",
       "version_major": 2,
       "version_minor": 0
      },
      "text/plain": [
       "FloatProgress(value=0.0, bar_style='info', description='Progress:', layout=Layout(height='25px', width='50%'),…"
      ]
     },
     "metadata": {},
     "output_type": "display_data"
    },
    {
     "name": "stdout",
     "output_type": "stream",
     "text": [
      "SparkSession available as 'spark'.\n"
     ]
    },
    {
     "data": {
      "application/vnd.jupyter.widget-view+json": {
       "model_id": "",
       "version_major": 2,
       "version_minor": 0
      },
      "text/plain": [
       "FloatProgress(value=0.0, bar_style='info', description='Progress:', layout=Layout(height='25px', width='50%'),…"
      ]
     },
     "metadata": {},
     "output_type": "display_data"
    },
    {
     "name": "stdout",
     "output_type": "stream",
     "text": [
      "Collecting boto3\n",
      "  Using cached https://files.pythonhosted.org/packages/52/34/1f9331d37ec16e375ef8a5da328b2a7cef1b1a327a1800f3904f2420f0f3/boto3-1.26.64-py3-none-any.whl\n",
      "Collecting botocore<1.30.0,>=1.29.64 (from boto3)\n",
      "  Using cached https://files.pythonhosted.org/packages/6c/dc/53ea6594209c1b38f4aa61a413f82d78c008ecab3a45dbf0303902206768/botocore-1.29.64-py3-none-any.whl\n",
      "Requirement already satisfied: jmespath<2.0.0,>=0.7.1 in /usr/local/lib/python3.7/site-packages (from boto3)\n",
      "Collecting s3transfer<0.7.0,>=0.6.0 (from boto3)\n",
      "  Using cached https://files.pythonhosted.org/packages/5e/c6/af903b5fab3f9b5b1e883f49a770066314c6dcceb589cf938d48c89556c1/s3transfer-0.6.0-py3-none-any.whl\n",
      "Collecting python-dateutil<3.0.0,>=2.1 (from botocore<1.30.0,>=1.29.64->boto3)\n",
      "  Using cached https://files.pythonhosted.org/packages/36/7a/87837f39d0296e723bb9b62bbb257d0355c7f6128853c78955f57342a56d/python_dateutil-2.8.2-py2.py3-none-any.whl\n",
      "Collecting urllib3<1.27,>=1.25.4 (from botocore<1.30.0,>=1.29.64->boto3)\n",
      "  Using cached https://files.pythonhosted.org/packages/fe/ca/466766e20b767ddb9b951202542310cba37ea5f2d792dae7589f1741af58/urllib3-1.26.14-py2.py3-none-any.whl\n",
      "Requirement already satisfied: six>=1.5 in /usr/local/lib/python3.7/site-packages (from python-dateutil<3.0.0,>=2.1->botocore<1.30.0,>=1.29.64->boto3)\n",
      "Installing collected packages: python-dateutil, urllib3, botocore, s3transfer, boto3\n",
      "Successfully installed boto3-1.26.64 botocore-1.29.64 python-dateutil-2.8.2 s3transfer-0.6.0 urllib3-1.26.14\n",
      "\n",
      "You are using pip version 9.0.1, however version 23.0 is available.\n",
      "You should consider upgrading via the 'pip install --upgrade pip' command."
     ]
    }
   ],
   "source": [
    "sc.install_pypi_package(\"boto3\")"
   ]
  },
  {
   "cell_type": "code",
   "execution_count": 2,
   "id": "99cf3e92-4dc8-4c6c-9647-95663930f6c7",
   "metadata": {
    "execution": {
     "iopub.execute_input": "2023-02-05T20:28:30.480603Z",
     "iopub.status.busy": "2023-02-05T20:28:30.480369Z",
     "iopub.status.idle": "2023-02-05T20:28:30.794289Z",
     "shell.execute_reply": "2023-02-05T20:28:30.793330Z",
     "shell.execute_reply.started": "2023-02-05T20:28:30.480571Z"
    },
    "tags": []
   },
   "outputs": [
    {
     "data": {
      "application/vnd.jupyter.widget-view+json": {
       "model_id": "6d175078e308422abba7e21ea0c7e80c",
       "version_major": 2,
       "version_minor": 0
      },
      "text/plain": [
       "VBox()"
      ]
     },
     "metadata": {},
     "output_type": "display_data"
    },
    {
     "data": {
      "application/vnd.jupyter.widget-view+json": {
       "model_id": "",
       "version_major": 2,
       "version_minor": 0
      },
      "text/plain": [
       "FloatProgress(value=0.0, bar_style='info', description='Progress:', layout=Layout(height='25px', width='50%'),…"
      ]
     },
     "metadata": {},
     "output_type": "display_data"
    }
   ],
   "source": [
    "import os\n",
    "import boto3\n",
    "import json\n",
    "\n",
    "os.environ[\n",
    "    'PYSPARK_SUBMIT_ARGS'] = '--packages=com.qubole.spark/spark-sql-kinesis_2.11/1.1.3-spark_2.4 pyspark-shell'\n"
   ]
  },
  {
   "cell_type": "code",
   "execution_count": 3,
   "id": "5bf2eb29-b8bd-410b-97f3-5d050ffc8112",
   "metadata": {
    "execution": {
     "iopub.execute_input": "2023-02-05T20:28:30.796889Z",
     "iopub.status.busy": "2023-02-05T20:28:30.796278Z",
     "iopub.status.idle": "2023-02-05T20:28:30.907388Z",
     "shell.execute_reply": "2023-02-05T20:28:30.906021Z",
     "shell.execute_reply.started": "2023-02-05T20:28:30.796836Z"
    },
    "tags": []
   },
   "outputs": [
    {
     "data": {
      "application/vnd.jupyter.widget-view+json": {
       "model_id": "e3fdce9e30fb4633bde6abbfadefe572",
       "version_major": 2,
       "version_minor": 0
      },
      "text/plain": [
       "VBox()"
      ]
     },
     "metadata": {},
     "output_type": "display_data"
    },
    {
     "data": {
      "application/vnd.jupyter.widget-view+json": {
       "model_id": "",
       "version_major": 2,
       "version_minor": 0
      },
      "text/plain": [
       "FloatProgress(value=0.0, bar_style='info', description='Progress:', layout=Layout(height='25px', width='50%'),…"
      ]
     },
     "metadata": {},
     "output_type": "display_data"
    }
   ],
   "source": [
    "stream_name = 'pyspark-kinesis'"
   ]
  },
  {
   "cell_type": "code",
   "execution_count": 5,
   "id": "c920aea3-ac87-4193-880d-03fa6f5d1497",
   "metadata": {
    "execution": {
     "iopub.execute_input": "2023-02-05T20:28:30.909680Z",
     "iopub.status.busy": "2023-02-05T20:28:30.909319Z",
     "iopub.status.idle": "2023-02-05T20:28:31.258671Z",
     "shell.execute_reply": "2023-02-05T20:28:31.257392Z",
     "shell.execute_reply.started": "2023-02-05T20:28:30.909628Z"
    },
    "tags": []
   },
   "outputs": [
    {
     "data": {
      "application/vnd.jupyter.widget-view+json": {
       "model_id": "1b59bc6777a8404881fbd24059b85b02",
       "version_major": 2,
       "version_minor": 0
      },
      "text/plain": [
       "VBox()"
      ]
     },
     "metadata": {},
     "output_type": "display_data"
    },
    {
     "data": {
      "application/vnd.jupyter.widget-view+json": {
       "model_id": "",
       "version_major": 2,
       "version_minor": 0
      },
      "text/plain": [
       "FloatProgress(value=0.0, bar_style='info', description='Progress:', layout=Layout(height='25px', width='50%'),…"
      ]
     },
     "metadata": {},
     "output_type": "display_data"
    },
    {
     "name": "stdout",
     "output_type": "stream",
     "text": [
      "{'StreamDescription': {'StreamName': 'pyspark-kinesis', 'StreamARN': 'arn:aws:kinesis:us-east-1:198423591225:stream/pyspark-kinesis', 'StreamStatus': 'ACTIVE', 'StreamModeDetails': {'StreamMode': 'PROVISIONED'}, 'Shards': [{'ShardId': 'shardId-000000000000', 'HashKeyRange': {'StartingHashKey': '0', 'EndingHashKey': '340282366920938463463374607431768211455'}, 'SequenceNumberRange': {'StartingSequenceNumber': '49637767260392005847003959566510704681299211336502214658'}}], 'HasMoreShards': False, 'RetentionPeriodHours': 24, 'StreamCreationTimestamp': datetime.datetime(2023, 2, 6, 16, 23, 20, tzinfo=tzlocal()), 'EnhancedMonitoring': [{'ShardLevelMetrics': []}], 'EncryptionType': 'NONE'}, 'ResponseMetadata': {'RequestId': 'fbfce293-dea4-1022-a7a7-cee45cc7e733', 'HTTPStatusCode': 200, 'HTTPHeaders': {'x-amzn-requestid': 'fbfce293-dea4-1022-a7a7-cee45cc7e733', 'x-amz-id-2': '0MuE4ywoWEH0txlXM1kFYqwWw/P5sth4+KmVIxr88iDW2xdyJSIrdRFoBB/v3Aws960E5LMgCPI9RV8IrbUgvlkefvLo5NIB', 'date': 'Mon, 06 Feb 2023 16:26:31 GMT', 'content-type': 'application/x-amz-json-1.1', 'content-length': '612'}, 'RetryAttempts': 0}}"
     ]
    }
   ],
   "source": [
    "kinesis_client = boto3.client('kinesis', region_name='us-east-1')\n",
    "\n",
    "\n",
    "response = kinesis_client.describe_stream(StreamName=stream_name)\n",
    "print(response)\n",
    "shard_id = response['StreamDescription']['Shards'][0]['ShardId']\n",
    "\n"
   ]
  },
  {
   "cell_type": "code",
   "execution_count": 6,
   "id": "7e4ce5b1-72c4-48ef-9d5e-c12f66891bb4",
   "metadata": {
    "execution": {
     "iopub.execute_input": "2023-02-05T20:28:33.100232Z",
     "iopub.status.busy": "2023-02-05T20:28:33.099944Z",
     "iopub.status.idle": "2023-02-05T20:28:33.403853Z",
     "shell.execute_reply": "2023-02-05T20:28:33.402846Z",
     "shell.execute_reply.started": "2023-02-05T20:28:33.100199Z"
    },
    "tags": []
   },
   "outputs": [
    {
     "data": {
      "application/vnd.jupyter.widget-view+json": {
       "model_id": "106aa80a29fb42838b1e27bfa87adc57",
       "version_major": 2,
       "version_minor": 0
      },
      "text/plain": [
       "VBox()"
      ]
     },
     "metadata": {},
     "output_type": "display_data"
    },
    {
     "data": {
      "application/vnd.jupyter.widget-view+json": {
       "model_id": "",
       "version_major": 2,
       "version_minor": 0
      },
      "text/plain": [
       "FloatProgress(value=0.0, bar_style='info', description='Progress:', layout=Layout(height='25px', width='50%'),…"
      ]
     },
     "metadata": {},
     "output_type": "display_data"
    },
    {
     "name": "stdout",
     "output_type": "stream",
     "text": [
      "{'ShardIterator': 'AAAAAAAAAAHJt3h+sBZxwp7Ni2YGtMu4lDP7OSD9xMWep1mQavrnbSzKDpTkIKqIgRePc9Rf3tZDd0eXc1HEBuZTXQiOHczTpLtr6BiEClJsgJJByL77TzJPr9WUrletsnB45g0kDzn0813TpCi51Ugy+hx1VbMMwHz7tsZ17E9jE/apDEnrtIMA6RPv22PGrsFa9Lb4QjntwpYebnm1QvztAbETB2/kQA5KL6BMUWZ7Pz7lZQtkIw==', 'ResponseMetadata': {'RequestId': 'c0df1de0-8541-28a1-9c84-31990722dfb0', 'HTTPStatusCode': 200, 'HTTPHeaders': {'x-amzn-requestid': 'c0df1de0-8541-28a1-9c84-31990722dfb0', 'x-amz-id-2': 'lMmvGJFMIj79+6LqwrN9H5IjaJjfiRBRzhdpWxaRo6iKlw87sDJ/53ubN6U3UgpixPoP/x0HDNOWLNW4dHMprtx5quEbAahy', 'date': 'Mon, 06 Feb 2023 16:26:33 GMT', 'content-type': 'application/x-amz-json-1.1', 'content-length': '268'}, 'RetryAttempts': 0}}"
     ]
    }
   ],
   "source": [
    "\n",
    "response = kinesis_client.get_shard_iterator(StreamName=stream_name,\n",
    "                                             ShardId=shard_id,\n",
    "                                             ShardIteratorType='TRIM_HORIZON')\n",
    "print(response)\n",
    "shard_iterator = response['ShardIterator']\n"
   ]
  },
  {
   "cell_type": "code",
   "execution_count": 7,
   "id": "512b819c-199c-4071-9899-a2f4f8509e36",
   "metadata": {
    "execution": {
     "iopub.execute_input": "2023-02-05T20:31:10.872195Z",
     "iopub.status.busy": "2023-02-05T20:31:10.871910Z",
     "iopub.status.idle": "2023-02-05T20:31:48.282319Z",
     "shell.execute_reply": "2023-02-05T20:31:48.281461Z",
     "shell.execute_reply.started": "2023-02-05T20:31:10.872162Z"
    },
    "tags": []
   },
   "outputs": [
    {
     "data": {
      "application/vnd.jupyter.widget-view+json": {
       "model_id": "17ff613b1f4142a5b637fe8654e12087",
       "version_major": 2,
       "version_minor": 0
      },
      "text/plain": [
       "VBox()"
      ]
     },
     "metadata": {},
     "output_type": "display_data"
    },
    {
     "data": {
      "application/vnd.jupyter.widget-view+json": {
       "model_id": "",
       "version_major": 2,
       "version_minor": 0
      },
      "text/plain": [
       "FloatProgress(value=0.0, bar_style='info', description='Progress:', layout=Layout(height='25px', width='50%'),…"
      ]
     },
     "metadata": {},
     "output_type": "display_data"
    },
    {
     "name": "stdout",
     "output_type": "stream",
     "text": [
      "{'message_type': 'message1', 'count': 2}\n",
      "{'message_type': 'message2', 'count': 1}\n",
      "{'message_type': 'message1', 'count': 2}\n",
      "{'message_type': 'message3', 'count': 3}\n",
      "{'message_type': 'message1', 'count': 5}\n",
      "{'message_type': 'message1', 'count': 2}\n",
      "{'message_type': 'message2', 'count': 1}\n",
      "{'message_type': 'message1', 'count': 2}\n",
      "{'message_type': 'message3', 'count': 3}\n",
      "{'message_type': 'message1', 'count': 5}\n",
      "{'message_type': 'message1', 'count': 2}\n",
      "{'message_type': 'message2', 'count': 1}\n",
      "{'message_type': 'message1', 'count': 2}\n",
      "{'message_type': 'message3', 'count': 3}\n",
      "{'message_type': 'message1', 'count': 5}\n",
      "{'message_type': 'message1', 'count': 2}\n",
      "{'message_type': 'message2', 'count': 1}\n",
      "{'message_type': 'message1', 'count': 2}\n",
      "{'message_type': 'message3', 'count': 3}\n",
      "{'message_type': 'message1', 'count': 5}\n",
      "{'message_type': 'message1', 'count': 2}\n",
      "{'message_type': 'message2', 'count': 1}\n",
      "{'message_type': 'message1', 'count': 2}\n",
      "{'message_type': 'message3', 'count': 3}\n",
      "{'message_type': 'message1', 'count': 5}\n",
      "{'message_type': 'message1', 'count': 2}\n",
      "{'message_type': 'message2', 'count': 1}\n",
      "{'message_type': 'message1', 'count': 2}\n",
      "{'message_type': 'message3', 'count': 3}\n",
      "{'message_type': 'message1', 'count': 5}"
     ]
    }
   ],
   "source": [
    "#-----------------------------------------------------------------\n",
    "# Get the records.\n",
    "# Get max_records from the shard, or run continuously if you wish.\n",
    "#-----------------------------------------------------------------\n",
    "\n",
    "max_records = 30\n",
    "record_count = 0\n",
    "\n",
    "while record_count < max_records:\n",
    "\n",
    "    response = kinesis_client.get_records(ShardIterator=shard_iterator,\n",
    "                                          Limit=4)\n",
    "    # print(response)\n",
    "    shard_iterator = response['NextShardIterator']\n",
    "    records = response['Records']\n",
    "    record_count += len(records)\n",
    "    # process_records(records)\n",
    "\n",
    "    # print(records[1])\n",
    "    if len(records) > 0:\n",
    "        for i in range(len(records)):\n",
    "            ms1 = json.loads(records[i]['Data'].decode('utf-8'))\n",
    "            print(ms1)\n",
    "    #     print(ms1['count'])\n",
    "\n",
    "\n",
    "        "
   ]
  },
  {
   "cell_type": "code",
   "execution_count": 8,
   "id": "df098abc-5c07-4648-a185-27388ceadf08",
   "metadata": {
    "execution": {
     "iopub.execute_input": "2023-02-03T16:38:43.841224Z",
     "iopub.status.busy": "2023-02-03T16:38:43.840941Z",
     "iopub.status.idle": "2023-02-03T16:38:49.196658Z",
     "shell.execute_reply": "2023-02-03T16:38:49.195615Z",
     "shell.execute_reply.started": "2023-02-03T16:38:43.841191Z"
    },
    "tags": []
   },
   "outputs": [
    {
     "data": {
      "application/vnd.jupyter.widget-view+json": {
       "model_id": "14068c11030b42f3a63724eff4f5725a",
       "version_major": 2,
       "version_minor": 0
      },
      "text/plain": [
       "VBox()"
      ]
     },
     "metadata": {},
     "output_type": "display_data"
    },
    {
     "data": {
      "application/vnd.jupyter.widget-view+json": {
       "model_id": "",
       "version_major": 2,
       "version_minor": 0
      },
      "text/plain": [
       "FloatProgress(value=0.0, bar_style='info', description='Progress:', layout=Layout(height='25px', width='50%'),…"
      ]
     },
     "metadata": {},
     "output_type": "display_data"
    },
    {
     "name": "stdout",
     "output_type": "stream",
     "text": [
      "0\n",
      "1\n",
      "2\n",
      "3\n",
      "4"
     ]
    }
   ],
   "source": [
    "import time\n",
    "for i in range(5):\n",
    "    time.sleep(1)\n",
    "    print(i)"
   ]
  },
  {
   "cell_type": "code",
   "execution_count": 5,
   "id": "477a0e75-f722-4719-ae63-ea9175773222",
   "metadata": {
    "execution": {
     "iopub.execute_input": "2023-02-05T14:07:15.432531Z",
     "iopub.status.busy": "2023-02-05T14:07:15.432235Z",
     "iopub.status.idle": "2023-02-05T14:07:15.738141Z",
     "shell.execute_reply": "2023-02-05T14:07:15.737130Z",
     "shell.execute_reply.started": "2023-02-05T14:07:15.432497Z"
    }
   },
   "outputs": [
    {
     "data": {
      "application/vnd.jupyter.widget-view+json": {
       "model_id": "4eb96c099cbb4feb9b76f4e6bde9137a",
       "version_major": 2,
       "version_minor": 0
      },
      "text/plain": [
       "VBox()"
      ]
     },
     "metadata": {},
     "output_type": "display_data"
    },
    {
     "data": {
      "application/vnd.jupyter.widget-view+json": {
       "model_id": "",
       "version_major": 2,
       "version_minor": 0
      },
      "text/plain": [
       "FloatProgress(value=0.0, bar_style='info', description='Progress:', layout=Layout(height='25px', width='50%'),…"
      ]
     },
     "metadata": {},
     "output_type": "display_data"
    }
   ],
   "source": []
  },
  {
   "cell_type": "code",
   "execution_count": null,
   "id": "a64d77e5-2d5a-43f6-b671-96a0da61d43b",
   "metadata": {},
   "outputs": [],
   "source": []
  }
 ],
 "metadata": {
  "kernelspec": {
   "display_name": "Python 3 (ipykernel)",
   "language": "python",
   "name": "python3"
  },
  "language_info": {
   "codemirror_mode": {
    "name": "ipython",
    "version": 3
   },
   "file_extension": ".py",
   "mimetype": "text/x-python",
   "name": "python",
   "nbconvert_exporter": "python",
   "pygments_lexer": "ipython3",
   "version": "3.9.13"
  }
 },
 "nbformat": 4,
 "nbformat_minor": 5
}
