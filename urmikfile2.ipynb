{
 "cells": [
  {
   "cell_type": "code",
   "execution_count": 7,
   "id": "5b9965d3-3a9f-4c9b-8f23-d3849e13938b",
   "metadata": {
    "execution": {
     "iopub.execute_input": "2023-02-14T19:45:43.960155Z",
     "iopub.status.busy": "2023-02-14T19:45:43.959902Z",
     "iopub.status.idle": "2023-02-14T19:45:53.264899Z",
     "shell.execute_reply": "2023-02-14T19:45:53.264324Z",
     "shell.execute_reply.started": "2023-02-14T19:45:43.960127Z"
    },
    "tags": []
   },
   "outputs": [
    {
     "data": {
      "application/vnd.jupyter.widget-view+json": {
       "model_id": "f860721f27a446dd829faa613157f6f2",
       "version_major": 2,
       "version_minor": 0
      },
      "text/plain": [
       "VBox()"
      ]
     },
     "metadata": {},
     "output_type": "display_data"
    },
    {
     "data": {
      "application/vnd.jupyter.widget-view+json": {
       "model_id": "",
       "version_major": 2,
       "version_minor": 0
      },
      "text/plain": [
       "FloatProgress(value=0.0, bar_style='info', description='Progress:', layout=Layout(height='25px', width='50%'),…"
      ]
     },
     "metadata": {},
     "output_type": "display_data"
    },
    {
     "name": "stdout",
     "output_type": "stream",
     "text": [
      "PySpark Version :2.4.8-amzn-2\n",
      "[1, 3, 5, 7, 9]"
     ]
    }
   ],
   "source": [
    "print('PySpark Version :'+spark.version)\n",
    "\n",
    "big_list = range(10000)\n",
    "rdd = sc.parallelize(big_list, 2)\n",
    "odds = rdd.filter(lambda x: x % 2 != 0)\n",
    "odds.take(5)"
   ]
  },
  {
   "cell_type": "code",
   "execution_count": 8,
   "id": "be40a15b-f8a9-4763-b247-ba359fc26698",
   "metadata": {
    "execution": {
     "iopub.execute_input": "2023-02-14T19:45:53.266473Z",
     "iopub.status.busy": "2023-02-14T19:45:53.266202Z",
     "iopub.status.idle": "2023-02-14T19:45:53.329424Z",
     "shell.execute_reply": "2023-02-14T19:45:53.328841Z",
     "shell.execute_reply.started": "2023-02-14T19:45:53.266436Z"
    },
    "tags": []
   },
   "outputs": [
    {
     "data": {
      "application/vnd.jupyter.widget-view+json": {
       "model_id": "db91a19d96da4b9fbf17f75d11838750",
       "version_major": 2,
       "version_minor": 0
      },
      "text/plain": [
       "VBox()"
      ]
     },
     "metadata": {},
     "output_type": "display_data"
    },
    {
     "data": {
      "application/vnd.jupyter.widget-view+json": {
       "model_id": "",
       "version_major": 2,
       "version_minor": 0
      },
      "text/plain": [
       "FloatProgress(value=0.0, bar_style='info', description='Progress:', layout=Layout(height='25px', width='50%'),…"
      ]
     },
     "metadata": {},
     "output_type": "display_data"
    },
    {
     "name": "stderr",
     "output_type": "stream",
     "text": [
      "An error was encountered:\n",
      "Package already installed for current Spark context!\n",
      "Traceback (most recent call last):\n",
      "  File \"/usr/lib/spark/python/lib/pyspark.zip/pyspark/context.py\", line 1110, in install_pypi_package\n",
      "    raise ValueError(\"Package already installed for current Spark context!\")\n",
      "ValueError: Package already installed for current Spark context!\n",
      "\n"
     ]
    }
   ],
   "source": [
    "sc.install_pypi_package(\"requests\")"
   ]
  },
  {
   "cell_type": "code",
   "execution_count": 9,
   "id": "4931f841-638e-446b-bc56-009b6e92289e",
   "metadata": {
    "execution": {
     "iopub.execute_input": "2023-02-14T19:45:54.582259Z",
     "iopub.status.busy": "2023-02-14T19:45:54.582020Z",
     "iopub.status.idle": "2023-02-14T19:45:55.653107Z",
     "shell.execute_reply": "2023-02-14T19:45:55.652306Z",
     "shell.execute_reply.started": "2023-02-14T19:45:54.582234Z"
    },
    "tags": []
   },
   "outputs": [
    {
     "name": "stdout",
     "output_type": "stream",
     "text": [
      "Defaulting to user installation because normal site-packages is not writeable\n",
      "Requirement already satisfied: matplotlib in /home/emr-notebook/.local/lib/python3.7/site-packages (3.5.3)\n",
      "Requirement already satisfied: kiwisolver>=1.0.1 in /home/emr-notebook/.local/lib/python3.7/site-packages (from matplotlib) (1.4.4)\n",
      "Requirement already satisfied: packaging>=20.0 in /mnt/notebook-env/lib/python3.7/site-packages (from matplotlib) (21.3)\n",
      "Requirement already satisfied: fonttools>=4.22.0 in /home/emr-notebook/.local/lib/python3.7/site-packages (from matplotlib) (4.38.0)\n",
      "Requirement already satisfied: pyparsing>=2.2.1 in /mnt/notebook-env/lib/python3.7/site-packages (from matplotlib) (3.0.4)\n",
      "Requirement already satisfied: pillow>=6.2.0 in /mnt/notebook-env/lib/python3.7/site-packages (from matplotlib) (9.0.1)\n",
      "Requirement already satisfied: python-dateutil>=2.7 in /mnt/notebook-env/lib/python3.7/site-packages (from matplotlib) (2.8.2)\n",
      "Requirement already satisfied: numpy>=1.17 in /mnt/notebook-env/lib/python3.7/site-packages (from matplotlib) (1.21.5)\n",
      "Requirement already satisfied: cycler>=0.10 in /home/emr-notebook/.local/lib/python3.7/site-packages (from matplotlib) (0.11.0)\n",
      "Requirement already satisfied: typing-extensions in /mnt/notebook-env/lib/python3.7/site-packages (from kiwisolver>=1.0.1->matplotlib) (4.1.1)\n",
      "Requirement already satisfied: six>=1.5 in /mnt/notebook-env/lib/python3.7/site-packages (from python-dateutil>=2.7->matplotlib) (1.16.0)\n",
      "Note: you may need to restart the kernel to use updated packages.\n"
     ]
    }
   ],
   "source": [
    "%pip install matplotlib"
   ]
  },
  {
   "cell_type": "code",
   "execution_count": 10,
   "id": "d983f5ef-9642-4f90-8f4f-c3e8bfb41566",
   "metadata": {
    "execution": {
     "iopub.execute_input": "2023-02-14T19:45:56.895532Z",
     "iopub.status.busy": "2023-02-14T19:45:56.895286Z",
     "iopub.status.idle": "2023-02-14T19:45:57.982611Z",
     "shell.execute_reply": "2023-02-14T19:45:57.981766Z",
     "shell.execute_reply.started": "2023-02-14T19:45:56.895504Z"
    },
    "tags": []
   },
   "outputs": [
    {
     "name": "stdout",
     "output_type": "stream",
     "text": [
      "Defaulting to user installation because normal site-packages is not writeable\n",
      "Requirement already satisfied: ipython in /mnt/notebook-env/lib/python3.7/site-packages (7.31.1)\n",
      "Requirement already satisfied: traitlets>=4.2 in /mnt/notebook-env/lib/python3.7/site-packages (from ipython) (5.1.1)\n",
      "Requirement already satisfied: decorator in /mnt/notebook-env/lib/python3.7/site-packages (from ipython) (5.1.1)\n",
      "Requirement already satisfied: pygments in /mnt/notebook-env/lib/python3.7/site-packages (from ipython) (2.11.2)\n",
      "Requirement already satisfied: matplotlib-inline in /mnt/notebook-env/lib/python3.7/site-packages (from ipython) (0.1.2)\n",
      "Requirement already satisfied: backcall in /mnt/notebook-env/lib/python3.7/site-packages (from ipython) (0.2.0)\n",
      "Requirement already satisfied: jedi>=0.16 in /mnt/notebook-env/lib/python3.7/site-packages (from ipython) (0.18.1)\n",
      "Requirement already satisfied: pickleshare in /mnt/notebook-env/lib/python3.7/site-packages (from ipython) (0.7.5)\n",
      "Requirement already satisfied: pexpect>4.3 in /mnt/notebook-env/lib/python3.7/site-packages (from ipython) (4.8.0)\n",
      "Requirement already satisfied: setuptools>=18.5 in /mnt/notebook-env/lib/python3.7/site-packages (from ipython) (61.2.0)\n",
      "Requirement already satisfied: prompt-toolkit!=3.0.0,!=3.0.1,<3.1.0,>=2.0.0 in /mnt/notebook-env/lib/python3.7/site-packages (from ipython) (3.0.20)\n",
      "Requirement already satisfied: parso<0.9.0,>=0.8.0 in /mnt/notebook-env/lib/python3.7/site-packages (from jedi>=0.16->ipython) (0.8.3)\n",
      "Requirement already satisfied: ptyprocess>=0.5 in /mnt/notebook-env/lib/python3.7/site-packages (from pexpect>4.3->ipython) (0.7.0)\n",
      "Requirement already satisfied: wcwidth in /mnt/notebook-env/lib/python3.7/site-packages (from prompt-toolkit!=3.0.0,!=3.0.1,<3.1.0,>=2.0.0->ipython) (0.2.5)\n",
      "Note: you may need to restart the kernel to use updated packages.\n"
     ]
    }
   ],
   "source": [
    "%pip install ipython"
   ]
  },
  {
   "cell_type": "code",
   "execution_count": 11,
   "id": "c2920fd6-109c-411b-8c7d-6ef24777472b",
   "metadata": {
    "execution": {
     "iopub.execute_input": "2023-02-14T19:45:59.082200Z",
     "iopub.status.busy": "2023-02-14T19:45:59.081953Z",
     "iopub.status.idle": "2023-02-14T19:46:00.145830Z",
     "shell.execute_reply": "2023-02-14T19:46:00.145034Z",
     "shell.execute_reply.started": "2023-02-14T19:45:59.082171Z"
    },
    "tags": []
   },
   "outputs": [
    {
     "name": "stdout",
     "output_type": "stream",
     "text": [
      "Defaulting to user installation because normal site-packages is not writeable\n",
      "Requirement already satisfied: matplotlib in /home/emr-notebook/.local/lib/python3.7/site-packages (3.5.3)\n",
      "Requirement already satisfied: cycler>=0.10 in /home/emr-notebook/.local/lib/python3.7/site-packages (from matplotlib) (0.11.0)\n",
      "Requirement already satisfied: pyparsing>=2.2.1 in /mnt/notebook-env/lib/python3.7/site-packages (from matplotlib) (3.0.4)\n",
      "Requirement already satisfied: numpy>=1.17 in /mnt/notebook-env/lib/python3.7/site-packages (from matplotlib) (1.21.5)\n",
      "Requirement already satisfied: packaging>=20.0 in /mnt/notebook-env/lib/python3.7/site-packages (from matplotlib) (21.3)\n",
      "Requirement already satisfied: pillow>=6.2.0 in /mnt/notebook-env/lib/python3.7/site-packages (from matplotlib) (9.0.1)\n",
      "Requirement already satisfied: kiwisolver>=1.0.1 in /home/emr-notebook/.local/lib/python3.7/site-packages (from matplotlib) (1.4.4)\n",
      "Requirement already satisfied: fonttools>=4.22.0 in /home/emr-notebook/.local/lib/python3.7/site-packages (from matplotlib) (4.38.0)\n",
      "Requirement already satisfied: python-dateutil>=2.7 in /mnt/notebook-env/lib/python3.7/site-packages (from matplotlib) (2.8.2)\n",
      "Requirement already satisfied: typing-extensions in /mnt/notebook-env/lib/python3.7/site-packages (from kiwisolver>=1.0.1->matplotlib) (4.1.1)\n",
      "Requirement already satisfied: six>=1.5 in /mnt/notebook-env/lib/python3.7/site-packages (from python-dateutil>=2.7->matplotlib) (1.16.0)\n",
      "Note: you may need to restart the kernel to use updated packages.\n"
     ]
    }
   ],
   "source": [
    "%pip install matplotlib"
   ]
  },
  {
   "cell_type": "code",
   "execution_count": 12,
   "id": "386a4265-16cf-4dd3-a3e4-99fc27ca8360",
   "metadata": {
    "execution": {
     "iopub.execute_input": "2023-02-14T19:46:03.175285Z",
     "iopub.status.busy": "2023-02-14T19:46:03.175000Z",
     "iopub.status.idle": "2023-02-14T19:46:08.487857Z",
     "shell.execute_reply": "2023-02-14T19:46:08.487131Z",
     "shell.execute_reply.started": "2023-02-14T19:46:03.175253Z"
    }
   },
   "outputs": [
    {
     "data": {
      "application/vnd.jupyter.widget-view+json": {
       "model_id": "ed0f8b4b70f047ada8185486e1c44237",
       "version_major": 2,
       "version_minor": 0
      },
      "text/plain": [
       "VBox()"
      ]
     },
     "metadata": {},
     "output_type": "display_data"
    },
    {
     "data": {
      "application/vnd.jupyter.widget-view+json": {
       "model_id": "",
       "version_major": 2,
       "version_minor": 0
      },
      "text/plain": [
       "FloatProgress(value=0.0, bar_style='info', description='Progress:', layout=Layout(height='25px', width='50%'),…"
      ]
     },
     "metadata": {},
     "output_type": "display_data"
    },
    {
     "name": "stdout",
     "output_type": "stream",
     "text": [
      "+-----------+-------------+---------+-------+\n",
      "|flight_date|flight_status|departure|arrival|\n",
      "+-----------+-------------+---------+-------+\n",
      "+-----------+-------------+---------+-------+"
     ]
    }
   ],
   "source": [
    "import requests\n",
    "from pyspark.sql.types import StructType, StructField, StringType, DoubleType\n",
    "from pyspark.sql.functions import col\n",
    "\n",
    "# Send a GET request to the Aviationstack API to retrieve flight data\n",
    "response = requests.get(\"http://api.aviationstack.com/v1/flights\",\n",
    "                        params={\"access_key\": \"5cf29606576465e5ccb8081fb532387b\", \"dep_iata\": \"WAW\"})\n",
    "data = response.json()\n",
    "\n",
    "# Define the schema for the DataFrame\n",
    "schema = StructType([\n",
    "    StructField(\"flight_date\", StringType(), True),\n",
    "    StructField(\"flight_status\", StringType(), True),\n",
    "    StructField(\"departure\", StructType([\n",
    "        StructField(\"airport\", StructType([\n",
    "            StructField(\"name\", StringType(), True),\n",
    "            StructField(\"iata\", StringType(), True),\n",
    "            StructField(\"icao\", StringType(), True),\n",
    "            StructField(\"latitude\", DoubleType(), True),\n",
    "            StructField(\"longitude\", DoubleType(), True),\n",
    "            StructField(\"geo_region\", StringType(), True)\n",
    "        ]), True),\n",
    "        StructField(\"scheduled_time\", StringType(), True),\n",
    "        StructField(\"estimated_time\", StringType(), True)\n",
    "    ]), True),\n",
    "    StructField(\"arrival\", StructType([\n",
    "        StructField(\"airport\", StructType([\n",
    "            StructField(\"name\", StringType(), True),\n",
    "            StructField(\"iata\", StringType(), True),\n",
    "            StructField(\"icao\", StringType(), True),\n",
    "            StructField(\"latitude\", DoubleType(), True),\n",
    "            StructField(\"longitude\", DoubleType(), True),\n",
    "            StructField(\"geo_region\", StringType(), True)\n",
    "        ]), True),\n",
    "        StructField(\"scheduled_time\", StringType(), True),\n",
    "        StructField(\"estimated_time\", StringType(), True)\n",
    "    ]), True)\n",
    "])\n",
    "\n",
    "# Convert the API response JSON data to a PySpark DataFrame\n",
    "df = spark.read.json(sc.parallelize([data]), schema=schema)\n",
    "\n",
    "# Define the range of coordinates that define Poland's boundaries\n",
    "min_lat = 49.002698\n",
    "max_lat = 54.836579\n",
    "min_lon = 14.122970\n",
    "max_lon = 24.029986\n",
    "\n",
    "# Filter the DataFrame to only include flights passing over Poland\n",
    "filtered_df = df.filter((col(\"departure.airport.latitude\") > min_lat) & (col(\"departure.airport.latitude\") < max_lat) & (col(\"departure.airport.longitude\") > min_lon) & (col(\"departure.airport.longitude\") < max_lon))\n",
    "\n",
    "# Show the filtered DataFrame\n",
    "filtered_df.show()"
   ]
  },
  {
   "cell_type": "code",
   "execution_count": 13,
   "id": "71a76f1b-fad1-480a-a671-90dc863252d8",
   "metadata": {
    "execution": {
     "iopub.execute_input": "2023-02-14T19:46:10.235463Z",
     "iopub.status.busy": "2023-02-14T19:46:10.235213Z",
     "iopub.status.idle": "2023-02-14T19:46:10.293880Z",
     "shell.execute_reply": "2023-02-14T19:46:10.293285Z",
     "shell.execute_reply.started": "2023-02-14T19:46:10.235437Z"
    }
   },
   "outputs": [
    {
     "data": {
      "application/vnd.jupyter.widget-view+json": {
       "model_id": "f73bdc9792fd47ffa933c7c12a298403",
       "version_major": 2,
       "version_minor": 0
      },
      "text/plain": [
       "VBox()"
      ]
     },
     "metadata": {},
     "output_type": "display_data"
    },
    {
     "data": {
      "application/vnd.jupyter.widget-view+json": {
       "model_id": "",
       "version_major": 2,
       "version_minor": 0
      },
      "text/plain": [
       "FloatProgress(value=0.0, bar_style='info', description='Progress:', layout=Layout(height='25px', width='50%'),…"
      ]
     },
     "metadata": {},
     "output_type": "display_data"
    },
    {
     "name": "stderr",
     "output_type": "stream",
     "text": [
      "An error was encountered:\n",
      "No module named 'matplotlib'\n",
      "Traceback (most recent call last):\n",
      "ModuleNotFoundError: No module named 'matplotlib'\n",
      "\n"
     ]
    }
   ],
   "source": [
    "import matplotlib.pyplot as plt\n",
    "\n",
    "# Get the latitude and longitude of the departure airports\n",
    "lats = filtered_df.select(\"departure.airport.latitude\").collect()\n",
    "lons = filtered_df.select(\"departure.airport.longitude\").collect()\n",
    "\n",
    "# Create a scatter plot of the flight paths\n",
    "plt.scatter(lons, lats)\n",
    "plt.title(\"Flights over Poland\")\n",
    "plt.xlabel(\"Longitude\")\n",
    "plt.ylabel(\"Latitude\")\n",
    "plt.show()"
   ]
  },
  {
   "cell_type": "code",
   "execution_count": null,
   "id": "90033407-de97-4d04-a4be-cea111875502",
   "metadata": {},
   "outputs": [],
   "source": []
  }
 ],
 "metadata": {
  "kernelspec": {
   "display_name": "PySpark",
   "language": "python",
   "name": "pysparkkernel"
  },
  "language_info": {
   "codemirror_mode": {
    "name": "python",
    "version": 3
   },
   "file_extension": ".py",
   "mimetype": "text/x-python",
   "name": "pyspark",
   "pygments_lexer": "python3"
  }
 },
 "nbformat": 4,
 "nbformat_minor": 5
}
