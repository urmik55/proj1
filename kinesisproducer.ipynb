{
 "cells": [
  {
   "cell_type": "code",
   "execution_count": 1,
   "id": "10b4d025-0d1a-4d43-8a32-c5aacda13a31",
   "metadata": {
    "execution": {
     "iopub.execute_input": "2023-02-05T20:28:14.408340Z",
     "iopub.status.busy": "2023-02-05T20:28:14.408054Z",
     "iopub.status.idle": "2023-02-05T20:29:02.450622Z",
     "shell.execute_reply": "2023-02-05T20:29:02.449716Z",
     "shell.execute_reply.started": "2023-02-05T20:28:14.408307Z"
    },
    "tags": []
   },
   "outputs": [
    {
     "data": {
      "application/vnd.jupyter.widget-view+json": {
       "model_id": "5df4c29f572341a3b657736b8377a6a7",
       "version_major": 2,
       "version_minor": 0
      },
      "text/plain": [
       "VBox()"
      ]
     },
     "metadata": {},
     "output_type": "display_data"
    },
    {
     "name": "stdout",
     "output_type": "stream",
     "text": [
      "Starting Spark application\n"
     ]
    },
    {
     "data": {
      "text/html": [
       "<table>\n",
       "<tr><th>ID</th><th>YARN Application ID</th><th>Kind</th><th>State</th><th>Spark UI</th><th>Driver log</th><th>User</th><th>Current session?</th></tr><tr><td>1</td><td>application_1675699948280_0002</td><td>pyspark</td><td>idle</td><td><a target=\"_blank\" href=\"http://ip-172-31-62-236.ec2.internal:20888/proxy/application_1675699948280_0002/\" class=\"emr-proxy-link\" emr-resource=\"j-GI7HGCJ93CF\n",
       "\" application-id=\"application_1675699948280_0002\">Link</a></td><td><a target=\"_blank\" href=\"http://ip-172-31-55-170.ec2.internal:8042/node/containerlogs/container_1675699948280_0002_01_000002/livy\" >Link</a></td><td>None</td><td>✔</td></tr></table>"
      ],
      "text/plain": [
       "<IPython.core.display.HTML object>"
      ]
     },
     "metadata": {},
     "output_type": "display_data"
    },
    {
     "data": {
      "application/vnd.jupyter.widget-view+json": {
       "model_id": "",
       "version_major": 2,
       "version_minor": 0
      },
      "text/plain": [
       "FloatProgress(value=0.0, bar_style='info', description='Progress:', layout=Layout(height='25px', width='50%'),…"
      ]
     },
     "metadata": {},
     "output_type": "display_data"
    },
    {
     "name": "stdout",
     "output_type": "stream",
     "text": [
      "SparkSession available as 'spark'.\n"
     ]
    },
    {
     "data": {
      "application/vnd.jupyter.widget-view+json": {
       "model_id": "",
       "version_major": 2,
       "version_minor": 0
      },
      "text/plain": [
       "FloatProgress(value=0.0, bar_style='info', description='Progress:', layout=Layout(height='25px', width='50%'),…"
      ]
     },
     "metadata": {},
     "output_type": "display_data"
    },
    {
     "name": "stdout",
     "output_type": "stream",
     "text": [
      "Collecting boto3\n",
      "  Using cached https://files.pythonhosted.org/packages/52/34/1f9331d37ec16e375ef8a5da328b2a7cef1b1a327a1800f3904f2420f0f3/boto3-1.26.64-py3-none-any.whl\n",
      "Collecting botocore<1.30.0,>=1.29.64 (from boto3)\n",
      "  Using cached https://files.pythonhosted.org/packages/6c/dc/53ea6594209c1b38f4aa61a413f82d78c008ecab3a45dbf0303902206768/botocore-1.29.64-py3-none-any.whl\n",
      "Requirement already satisfied: jmespath<2.0.0,>=0.7.1 in /usr/local/lib/python3.7/site-packages (from boto3)\n",
      "Collecting s3transfer<0.7.0,>=0.6.0 (from boto3)\n",
      "  Using cached https://files.pythonhosted.org/packages/5e/c6/af903b5fab3f9b5b1e883f49a770066314c6dcceb589cf938d48c89556c1/s3transfer-0.6.0-py3-none-any.whl\n",
      "Collecting python-dateutil<3.0.0,>=2.1 (from botocore<1.30.0,>=1.29.64->boto3)\n",
      "  Using cached https://files.pythonhosted.org/packages/36/7a/87837f39d0296e723bb9b62bbb257d0355c7f6128853c78955f57342a56d/python_dateutil-2.8.2-py2.py3-none-any.whl\n",
      "Collecting urllib3<1.27,>=1.25.4 (from botocore<1.30.0,>=1.29.64->boto3)\n",
      "  Using cached https://files.pythonhosted.org/packages/fe/ca/466766e20b767ddb9b951202542310cba37ea5f2d792dae7589f1741af58/urllib3-1.26.14-py2.py3-none-any.whl\n",
      "Requirement already satisfied: six>=1.5 in /usr/local/lib/python3.7/site-packages (from python-dateutil<3.0.0,>=2.1->botocore<1.30.0,>=1.29.64->boto3)\n",
      "Installing collected packages: python-dateutil, urllib3, botocore, s3transfer, boto3\n",
      "Successfully installed boto3-1.26.64 botocore-1.29.64 python-dateutil-2.8.2 s3transfer-0.6.0 urllib3-1.26.14\n",
      "\n",
      "You are using pip version 9.0.1, however version 23.0 is available.\n",
      "You should consider upgrading via the 'pip install --upgrade pip' command."
     ]
    }
   ],
   "source": [
    "sc.install_pypi_package(\"boto3\")"
   ]
  },
  {
   "cell_type": "code",
   "execution_count": 4,
   "id": "e7a567a9-d04d-4ac7-84dc-4b4b8a850c5f",
   "metadata": {
    "execution": {
     "iopub.execute_input": "2023-02-05T20:29:02.452762Z",
     "iopub.status.busy": "2023-02-05T20:29:02.452429Z",
     "iopub.status.idle": "2023-02-05T20:29:03.131619Z",
     "shell.execute_reply": "2023-02-05T20:29:03.130509Z",
     "shell.execute_reply.started": "2023-02-05T20:29:02.452714Z"
    },
    "tags": []
   },
   "outputs": [
    {
     "data": {
      "application/vnd.jupyter.widget-view+json": {
       "model_id": "1f1ed3ad992f4ce8920eef41091a7019",
       "version_major": 2,
       "version_minor": 0
      },
      "text/plain": [
       "VBox()"
      ]
     },
     "metadata": {},
     "output_type": "display_data"
    },
    {
     "data": {
      "application/vnd.jupyter.widget-view+json": {
       "model_id": "",
       "version_major": 2,
       "version_minor": 0
      },
      "text/plain": [
       "FloatProgress(value=0.0, bar_style='info', description='Progress:', layout=Layout(height='25px', width='50%'),…"
      ]
     },
     "metadata": {},
     "output_type": "display_data"
    }
   ],
   "source": [
    "import os\n",
    "import boto3\n",
    "import json\n",
    "\n",
    "os.environ[\n",
    "    'PYSPARK_SUBMIT_ARGS'] = '--packages=com.qubole.spark/spark-sql-kinesis_2.11/1.1.3-spark_2.4 pyspark-shell'"
   ]
  },
  {
   "cell_type": "code",
   "execution_count": 5,
   "id": "1ecac1a1-cd85-426f-a982-bcc07704f650",
   "metadata": {
    "execution": {
     "iopub.execute_input": "2023-02-05T20:29:03.134190Z",
     "iopub.status.busy": "2023-02-05T20:29:03.133836Z",
     "iopub.status.idle": "2023-02-05T20:29:03.444234Z",
     "shell.execute_reply": "2023-02-05T20:29:03.442928Z",
     "shell.execute_reply.started": "2023-02-05T20:29:03.134139Z"
    },
    "tags": []
   },
   "outputs": [
    {
     "data": {
      "application/vnd.jupyter.widget-view+json": {
       "model_id": "19b182ba4c304bb4b9c0047e398eca02",
       "version_major": 2,
       "version_minor": 0
      },
      "text/plain": [
       "VBox()"
      ]
     },
     "metadata": {},
     "output_type": "display_data"
    },
    {
     "data": {
      "application/vnd.jupyter.widget-view+json": {
       "model_id": "",
       "version_major": 2,
       "version_minor": 0
      },
      "text/plain": [
       "FloatProgress(value=0.0, bar_style='info', description='Progress:', layout=Layout(height='25px', width='50%'),…"
      ]
     },
     "metadata": {},
     "output_type": "display_data"
    }
   ],
   "source": [
    "client = boto3.client('kinesis', region_name='us-east-1')\n",
    "stream_name = 'pyspark-kinesis'"
   ]
  },
  {
   "cell_type": "code",
   "execution_count": 11,
   "id": "bf9fb75c-997f-413e-a996-7d1eeb62d542",
   "metadata": {
    "execution": {
     "iopub.execute_input": "2023-02-05T20:31:46.879912Z",
     "iopub.status.busy": "2023-02-05T20:31:46.879625Z",
     "iopub.status.idle": "2023-02-05T20:31:47.170401Z",
     "shell.execute_reply": "2023-02-05T20:31:47.169342Z",
     "shell.execute_reply.started": "2023-02-05T20:31:46.879881Z"
    },
    "tags": []
   },
   "outputs": [
    {
     "data": {
      "application/vnd.jupyter.widget-view+json": {
       "model_id": "eb42db0107f242659c99c56befca7bde",
       "version_major": 2,
       "version_minor": 0
      },
      "text/plain": [
       "VBox()"
      ]
     },
     "metadata": {},
     "output_type": "display_data"
    },
    {
     "data": {
      "application/vnd.jupyter.widget-view+json": {
       "model_id": "",
       "version_major": 2,
       "version_minor": 0
      },
      "text/plain": [
       "FloatProgress(value=0.0, bar_style='info', description='Progress:', layout=Layout(height='25px', width='50%'),…"
      ]
     },
     "metadata": {},
     "output_type": "display_data"
    },
    {
     "name": "stdout",
     "output_type": "stream",
     "text": [
      "{'ShardId': 'shardId-000000000000', 'SequenceNumber': '49637767260392005847003961360474414033675130095968190466', 'ResponseMetadata': {'RequestId': 'dcde82a3-0f1a-5703-8085-ae1c04490d8b', 'HTTPStatusCode': 200, 'HTTPHeaders': {'x-amzn-requestid': 'dcde82a3-0f1a-5703-8085-ae1c04490d8b', 'x-amz-id-2': 'WmhEPn9ZSXhD2WH1GPVm37O31ZFkY23RxsAGuht9unlFC578KyV0K0ejG9azddxEqHsvsEO0O2xNeFTqklXh6vzAozrjjcqK0tRY5wWSvoo=', 'date': 'Mon, 06 Feb 2023 16:27:43 GMT', 'content-type': 'application/x-amz-json-1.1', 'content-length': '110'}, 'RetryAttempts': 0}}\n",
      "{'ShardId': 'shardId-000000000000', 'SequenceNumber': '49637767260392005847003961360475622959494744725142896642', 'ResponseMetadata': {'RequestId': 'df17a7cd-2aab-4114-834c-8b7221f81b9c', 'HTTPStatusCode': 200, 'HTTPHeaders': {'x-amzn-requestid': 'df17a7cd-2aab-4114-834c-8b7221f81b9c', 'x-amz-id-2': 'gaDJDb48zyQHKb6DvavGT1kEebwiv7FOWGrPwJByQfMwXggnEppEh9XqUZkUxQR3vV3lANxyLqri4UqKJr8eHwFvJGOHOGsD97mAbFzs7LY=', 'date': 'Mon, 06 Feb 2023 16:27:43 GMT', 'content-type': 'application/x-amz-json-1.1', 'content-length': '110'}, 'RetryAttempts': 0}}\n",
      "{'ShardId': 'shardId-000000000000', 'SequenceNumber': '49637767260392005847003961360476831885314359354317602818', 'ResponseMetadata': {'RequestId': 'f04d1bd0-10b0-a65f-ac16-376f1be3fcd7', 'HTTPStatusCode': 200, 'HTTPHeaders': {'x-amzn-requestid': 'f04d1bd0-10b0-a65f-ac16-376f1be3fcd7', 'x-amz-id-2': 'Her68aTcR6+kjB1nK1Q50vQMMvh37H4Lyzej8T282h4V6GW5KpHk3rPM5UWFOTm9p9UT8jtcSgY3AQcGdDr1aePZ7ed2IWCnDHuaVn3p3HI=', 'date': 'Mon, 06 Feb 2023 16:27:43 GMT', 'content-type': 'application/x-amz-json-1.1', 'content-length': '110'}, 'RetryAttempts': 0}}\n",
      "{'ShardId': 'shardId-000000000000', 'SequenceNumber': '49637767260392005847003961360478040811133973983492308994', 'ResponseMetadata': {'RequestId': 'cc7494db-0cf9-825f-902f-b86407aad8d7', 'HTTPStatusCode': 200, 'HTTPHeaders': {'x-amzn-requestid': 'cc7494db-0cf9-825f-902f-b86407aad8d7', 'x-amz-id-2': '2Vgc7SLJusepMSAd5VJbOB9QKE5U1JRTpJ/iZinQZ2CjP7BNTS/4zc7jtI+qIHpeJXm3FAM1zSIJ9IOKi6vRMbYZdw+/BZrbWtyS1mX2hP0=', 'date': 'Mon, 06 Feb 2023 16:27:43 GMT', 'content-type': 'application/x-amz-json-1.1', 'content-length': '110'}, 'RetryAttempts': 0}}\n",
      "{'ShardId': 'shardId-000000000000', 'SequenceNumber': '49637767260392005847003961360479249736953588612667015170', 'ResponseMetadata': {'RequestId': 'ed5e5911-3df9-5e9e-b105-75ae36aa0416', 'HTTPStatusCode': 200, 'HTTPHeaders': {'x-amzn-requestid': 'ed5e5911-3df9-5e9e-b105-75ae36aa0416', 'x-amz-id-2': 'DNFkxUQVLyqybweaS7ZK+yPqqjRJybcHB+Vi3zpj0c+YWANo78kuSBlp003tLq/CcsYNxTTAQcdvpQVS8kHD2PAWe18mKleod2ps3kCafgM=', 'date': 'Mon, 06 Feb 2023 16:27:43 GMT', 'content-type': 'application/x-amz-json-1.1', 'content-length': '110'}, 'RetryAttempts': 0}}"
     ]
    }
   ],
   "source": [
    "messages = [{\n",
    "    'message_type': 'message1',\n",
    "    'count': 2\n",
    "}, {\n",
    "    'message_type': 'message2',\n",
    "    'count': 1\n",
    "}, {\n",
    "    'message_type': 'message1',\n",
    "    'count': 2\n",
    "}, {\n",
    "    'message_type': 'message3',\n",
    "    'count': 3\n",
    "}, {\n",
    "    'message_type': 'message1',\n",
    "    'count': 5\n",
    "}]\n",
    "for message in messages:\n",
    "    client.put_record(StreamName=stream_name,\n",
    "                      Data=json.dumps(message),\n",
    "                      PartitionKey='part_key')"
   ]
  },
  {
   "cell_type": "code",
   "execution_count": null,
   "id": "89cab8bc-2c8c-404d-859b-a8078f376ecb",
   "metadata": {},
   "outputs": [],
   "source": []
  }
 ],
 "metadata": {
  "kernelspec": {
   "display_name": "PySpark",
   "language": "python",
   "name": "pysparkkernel"
  },
  "language_info": {
   "codemirror_mode": {
    "name": "python",
    "version": 3
   },
   "file_extension": ".py",
   "mimetype": "text/x-python",
   "name": "pyspark",
   "pygments_lexer": "python3"
  }
 },
 "nbformat": 4,
 "nbformat_minor": 5
}
